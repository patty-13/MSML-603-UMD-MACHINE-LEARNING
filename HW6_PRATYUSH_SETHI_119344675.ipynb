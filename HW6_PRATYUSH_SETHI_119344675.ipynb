{
  "nbformat": 4,
  "nbformat_minor": 0,
  "metadata": {
    "colab": {
      "provenance": [],
      "include_colab_link": true
    },
    "kernelspec": {
      "name": "python3",
      "display_name": "Python 3"
    },
    "language_info": {
      "name": "python"
    }
  },
  "cells": [
    {
      "cell_type": "markdown",
      "metadata": {
        "id": "view-in-github",
        "colab_type": "text"
      },
      "source": [
        "<a href=\"https://colab.research.google.com/github/patty-13/MSML-603-UMD-MACHINE-LEARNING/blob/main/HW6_PRATYUSH_SETHI_119344675.ipynb\" target=\"_parent\"><img src=\"https://colab.research.google.com/assets/colab-badge.svg\" alt=\"Open In Colab\"/></a>"
      ]
    },
    {
      "cell_type": "markdown",
      "source": [
        "# HW 6 (40 Points)\n",
        "This homework is about linear and nonlinear regression. From the lecture we remeber that, if\n",
        "\n",
        "$$\n",
        "y_i = {\\bf w}^T {\\bf x}_i  + b + {\\epsilon}_i ~~~~ {\\text for} ~~ i=1, \\cdots, N\n",
        "$$\n",
        "where, $b$ is the bias,  and  $\\epsilon_i \\sim N(0, \\sigma^2)$. We also saw that with a change of variavle \n",
        "$$\n",
        "{\\bf x}  \\leftarrow  \\begin{bmatrix} \n",
        "                     {\\bf x} \\\\\n",
        "                     1\n",
        "                     \\end{bmatrix}\n",
        "$$\n",
        "$$\n",
        "{\\bf w}  \\leftarrow  \\begin{bmatrix} \n",
        "                     {\\bf w} \\\\\n",
        "                     b\n",
        "                     \\end{bmatrix}\n",
        "$$\n",
        "we can simplify the above equation to \n",
        "$$\n",
        "y_i = {\\bf w}^T {\\bf x}_i  + {\\epsilon}_i ~~~~ {\\text for} ~~ i=1, \\cdots, N\n",
        "$$\n",
        "For the training set $D = \\{ ( {\\bf x}_1, y_1), ( {\\bf x}_2, y_2), \\cdots,  ( {\\bf x}_N, y_N) \\}$ we showed that the  likelihood function can be written as\n",
        "$$\n",
        "l({\\bf w}) = 1/N \\sum_{i=1}^N ({\\bf w}^T{\\bf x}_i - y_i)^2\n",
        "$$\n",
        "and the maximum likelihood estimate of ${\\bf w}$ given set $D$ can be written as\n",
        "$$\n",
        "\\hat{\\bf w}_{ML} = \\underset{\\bf w}{argmin} ~ l({\\bf w})\n",
        "$$\n",
        "therefore to find $\\hat{\\bf w}_{ML}$, we need to take the derivative of the above equation \n",
        "\n",
        "$$\n",
        "\\begin{align}\n",
        "\\nabla l({\\bf w}) &= \\nabla l(\\left.w_{1}, w_{2}, \\ldots, w_{d+1}\\right) \\\\\n",
        "\\\\\n",
        "&=\\left[\\begin{array}{c}\n",
        "\\dfrac{\\partial l}{\\partial w_1}(\\left.w_{1}, w_{2}, \\ldots, w_{d+1}\\right)\\\\\n",
        "\\dfrac{\\partial l}{\\partial w_2}(\\left.w_{1}, w_{2}, \\ldots, w_{d+1}\\right) \\\\\n",
        "\\vdots \\\\\n",
        "\\dfrac{\\partial l}{\\partial w_{d+1}}(\\left.w_{1}, x_{2}, \\ldots, w_{d+1}\\right) \n",
        "\\end{array}\\right] \\\\ \\\\\n",
        " & = 1/N \\sum_{i=1}^N {\\bf x}_i ({\\bf x}_i^T {\\bf w}- y_i)\\\\\n",
        "\\end{align} \n",
        "$$\n",
        "where $\\nabla l({\\bf w})$ is the gradient of likelihood function $l({\\bf w})$. In future we use the gradient in a gradient descent algorithm to find the minimum of the function. Here we set $\\nabla l({\\bf w}) = 0$ and solve for ${\\bf w}$. As we saw in the class the solution can be written as follows\n",
        "\n",
        "$$\n",
        "\\hat{\\bf w}_{ML} = ({\\bf X} {\\bf X}^T)^{-1}{\\bf X}{\\bf y}\n",
        "$$\n",
        "\n",
        "where \n",
        "$$\n",
        "{\\bf X} = [{\\bf x}_1, {\\bf x}_2, \\cdots, {\\bf x}_N]\n",
        "$$\n",
        "and\n",
        "$$\n",
        "{\\bf y} = [y_1, y_2, \\cdots, y_N] \n",
        "$$\n"
      ],
      "metadata": {
        "id": "9tA3c1ogTEqc"
      }
    },
    {
      "cell_type": "markdown",
      "source": [
        "## We generate a data set with linear dependency here"
      ],
      "metadata": {
        "id": "rW1nAXYgxs_P"
      }
    },
    {
      "cell_type": "code",
      "execution_count": null,
      "metadata": {
        "id": "YAsh_iaGTDcr"
      },
      "outputs": [],
      "source": [
        "import numpy as np \n",
        "import matplotlib.pyplot as plt\n",
        "np.random.seed(123)\n",
        "N = 100\n",
        "b = 3.2\n",
        "a = 2.5\n",
        "x = np.random.normal(0, 10, N)\n",
        "y = a*x + b + np.random.normal(0, 5, N)"
      ]
    },
    {
      "cell_type": "markdown",
      "source": [
        "**without looking at the data we set aside 20% of the data as test data. The rest is used as training**"
      ],
      "metadata": {
        "id": "exSVS6HEbK5B"
      }
    },
    {
      "cell_type": "code",
      "source": [
        "N_tr = int(N*0.8)\n",
        "N_tst = N-N_tr\n",
        "x_tr = x[0:N_tr]\n",
        "y_tr = y[0:N_tr]\n",
        "x_tst= x[N_tr:]\n",
        "y_tst = y[N_tr:]\n",
        "plt.plot(x_tr,y_tr, 'ro', label='training data')\n",
        "plt.grid()\n",
        "plt.legend()\n",
        "plt.xlabel('x')\n",
        "plt.ylabel('y')\n",
        "plt.title('training data ')"
      ],
      "metadata": {
        "colab": {
          "base_uri": "https://localhost:8080/",
          "height": 312
        },
        "id": "4SGU8CqDbYLm",
        "outputId": "114beee7-b6ee-4bbc-d4ac-5e7cf023c3d3"
      },
      "execution_count": null,
      "outputs": [
        {
          "output_type": "execute_result",
          "data": {
            "text/plain": [
              "Text(0.5, 1.0, 'training data ')"
            ]
          },
          "metadata": {},
          "execution_count": 115
        },
        {
          "output_type": "display_data",
          "data": {
            "text/plain": [
              "<Figure size 432x288 with 1 Axes>"
            ],
            "image/png": "[encoded data removed]"
          },
          "metadata": {
            "needs_background": "light"
          }
        }
      ]
    },
    {
      "cell_type": "markdown",
      "source": [
        "**Change of variable**"
      ],
      "metadata": {
        "id": "hQMHFfk51o6U"
      }
    },
    {
      "cell_type": "markdown",
      "source": [
        "$$\n",
        "{\\bf x}  \\leftarrow  \\begin{bmatrix} \n",
        "                     {\\bf x} \\\\\n",
        "                     1\n",
        "                     \\end{bmatrix}\n",
        "$$"
      ],
      "metadata": {
        "id": "CSt8tbPV1Zjh"
      }
    },
    {
      "cell_type": "code",
      "source": [
        "X = np.vstack((x_tr , np.ones(N_tr)))\n",
        "print(X.shape)"
      ],
      "metadata": {
        "id": "4AgXxaPB0Jf-",
        "colab": {
          "base_uri": "https://localhost:8080/"
        },
        "outputId": "68a99671-cc00-4fb4-fb42-24476c7446ae"
      },
      "execution_count": null,
      "outputs": [
        {
          "output_type": "stream",
          "name": "stdout",
          "text": [
            "(2, 80)\n"
          ]
        }
      ]
    },
    {
      "cell_type": "markdown",
      "source": [
        "Now we estimate the ${\\bf w}$\n",
        "$$\n",
        "\\hat{\\bf w}_{ML} = ({\\bf X} {\\bf X}^T)^{-1}{\\bf X}{\\bf y}\n",
        "$$"
      ],
      "metadata": {
        "id": "OGdqdq8p1dE8"
      }
    },
    {
      "cell_type": "code",
      "source": [
        "w_ml = np.matmul(np.linalg.inv(np.matmul(X, np.transpose(X))) , np.matmul(X,y_tr))\n",
        "print(w_ml)"
      ],
      "metadata": {
        "id": "dLhh6UlE099_",
        "colab": {
          "base_uri": "https://localhost:8080/"
        },
        "outputId": "16cc85db-8d3e-4086-f71e-801dde4337cd"
      },
      "execution_count": null,
      "outputs": [
        {
          "output_type": "stream",
          "name": "stdout",
          "text": [
            "[2.47933439 3.44115681]\n"
          ]
        }
      ]
    },
    {
      "cell_type": "markdown",
      "source": [
        "**Let us plot the line we found, training data and test data**"
      ],
      "metadata": {
        "id": "DqnnFlf01z9s"
      }
    },
    {
      "cell_type": "code",
      "source": [
        "x_min, x_max = np.min(x_tr), np.max(x_tr)\n",
        "xx = np.linspace(x_min, x_max, 1000)\n",
        "yy = w_ml[0]* xx + w_ml[1]\n",
        "plt.plot(x_tr,y_tr, 'ro', label='training data')\n",
        "plt.plot(x_tst,y_tst, 'bx', label='test data')\n",
        "plt.plot(xx,yy, label= 'estimated line')\n",
        "plt.grid()\n",
        "plt.legend()\n",
        "plt.xlabel('x')\n",
        "plt.ylabel('y')\n",
        "plt.title('training data and maximum likelihood estimate of the curve descring the data')"
      ],
      "metadata": {
        "colab": {
          "base_uri": "https://localhost:8080/",
          "height": 312
        },
        "id": "94_V4SzK17ZF",
        "outputId": "71bcf880-a2f4-491b-f66f-81dc8038a856"
      },
      "execution_count": null,
      "outputs": [
        {
          "output_type": "execute_result",
          "data": {
            "text/plain": [
              "Text(0.5, 1.0, 'training data and maximum likelihood estimate of the curve descring the data')"
            ]
          },
          "metadata": {},
          "execution_count": 118
        },
        {
          "output_type": "display_data",
          "data": {
            "text/plain": [
              "<Figure size 432x288 with 1 Axes>"
            ],
            "image/png": "[encoded data removed]"
          },
          "metadata": {
            "needs_background": "light"
          }
        }
      ]
    },
    {
      "cell_type": "markdown",
      "source": [
        "**Now let us calculate the Error of the estimate for the training set and test set**\n",
        "\n",
        "The error can be written as\n",
        "$$\n",
        "{\\bf E} = 1/N \\sum_{i=1}^N ({\\hat{\\bf w}}_{ML}^T{\\bf x}_i - y_i)^2\n",
        "$$\n"
      ],
      "metadata": {
        "id": "Qtm0tN-tNrom"
      }
    },
    {
      "cell_type": "code",
      "source": [
        "X_tr = np.vstack((x_tr, np.ones(len(x_tr))))\n",
        "X_tst = np.vstack((x_tst, np.ones(len(x_tst))))\n",
        "training_error = np.mean(np.square(np.matmul(w_ml, X_tr) - y_tr))\n",
        "test_error = np.mean(np.square(np.matmul(w_ml, X_tst) - y_tst))\n",
        "print('Error_training = ', training_error)\n",
        "print('Error_Test = ', test_error)"
      ],
      "metadata": {
        "colab": {
          "base_uri": "https://localhost:8080/"
        },
        "id": "KMhlmSnmNrAz",
        "outputId": "81e8c63d-a1e5-4595-cda6-b0f684a61dc0"
      },
      "execution_count": null,
      "outputs": [
        {
          "output_type": "stream",
          "name": "stdout",
          "text": [
            "Error_training =  21.990790589492953\n",
            "Error_Test =  30.271124823144515\n"
          ]
        }
      ]
    },
    {
      "cell_type": "markdown",
      "source": [
        "# Problem 1 (30 points)\n",
        "The goal of problem 1 is to extend the linear regression and find polynomial fit for the given data. In the following we first describe the problem and then show an anlytical solution. Then we generate the training dat and the we state the problem."
      ],
      "metadata": {
        "id": "LQQb3g7pE7ni"
      }
    },
    {
      "cell_type": "markdown",
      "source": [
        "## Now we want to apply the linear estimation for nonlinear cases\n",
        "Assume that  the best fit for\n",
        "the training set $D = \\{ ( { x}_1, y_1), ( { x}_2, y_2), \\cdots,  ( { x}_N, y_N) \\}$ is the polynomial\n",
        "\n",
        "$$\n",
        "y_ i = a_0 + a_1 x_i + a_2 x_i^2 + \\cdots + a_p x_i^p\n",
        "$$\n",
        "\n",
        "we can define\n",
        "$$\n",
        "{\\bf x}  =           \\begin{bmatrix} \n",
        "                     {1} \\\\\n",
        "                     x \\\\\n",
        "                     x^2 \\\\\n",
        "                     \\vdots \\\\\n",
        "                     x^p \\\\\n",
        "                     \\end{bmatrix}\n",
        "$$\n",
        "Therefore, for every value of $x_i$ in our training data set we can generate a vector \n",
        "\n",
        "$$\n",
        "{\\bf x}_i  =           \\begin{bmatrix} \n",
        "                     {1} \\\\\n",
        "                     x_i \\\\\n",
        "                     x_i^2 \\\\\n",
        "                     \\vdots \\\\\n",
        "                     x_i^p \\\\\n",
        "                     \\end{bmatrix}\n",
        "$$\n",
        "\n",
        "We can still use \n",
        "\n",
        "$$\n",
        "{\\bf X} = [{\\bf x}_1, {\\bf x}_2, \\cdots, {\\bf x}_N]\n",
        "$$\n",
        "\n",
        "and\n",
        "\n",
        "$$\n",
        "{\\bf y} = [y_1, y_2, \\cdots, y_N] \n",
        "$$\n",
        "\n",
        "Then your solution should be exactly to the one we expressed above, i.e. we get\n",
        "\n",
        "$$\n",
        "\\hat{\\bf w} = ({\\bf X} {\\bf X}^T)^{-1}{\\bf X}{\\bf y}\n",
        "$$"
      ],
      "metadata": {
        "id": "zMgb_TTD162B"
      }
    },
    {
      "cell_type": "markdown",
      "source": [
        "**Let us generate the training data**"
      ],
      "metadata": {
        "id": "gVrOiFORFk0a"
      }
    },
    {
      "cell_type": "code",
      "source": [
        "import numpy as np \n",
        "import matplotlib.pyplot as plt\n",
        "np.random.seed(123)\n",
        "N = 100\n",
        "b = 3.2\n",
        "a3 = -0.2\n",
        "a2 = 0.2\n",
        "a1 = -1\n",
        "\n",
        "x = np.random.normal(0, 3, N)\n",
        "y = a3 * np.power(x,3) + a2* np.power(x,2) + a1*x + b + np.random.normal(0, 10, N)"
      ],
      "metadata": {
        "id": "QpuhvGXuLc9b"
      },
      "execution_count": null,
      "outputs": []
    },
    {
      "cell_type": "markdown",
      "source": [
        "**Here we introduce a more compact way of generating the same data**\n",
        "You are more than welcome to use any of these two codes for the solution to the HW."
      ],
      "metadata": {
        "id": "Z4mN90xNiTfD"
      }
    },
    {
      "cell_type": "code",
      "source": [
        "import numpy as np \n",
        "import matplotlib.pyplot as plt\n",
        "np.random.seed(123)\n",
        "N = 100\n",
        "b = 3.2\n",
        "a3 = -0.2\n",
        "a2 = 0.2\n",
        "a1 = -1\n",
        "x = np.random.normal(0, 3, N)\n",
        "p = 3\n",
        "X = np.ones(N)\n",
        "for i in np.arange(p):\n",
        "  X = np.vstack((X, np.power(x , i+1)))\n",
        "w = np.array([b, a1, a2, a3])\n",
        "y = np.matmul(w,X) + np.random.normal(0, 10, N)"
      ],
      "metadata": {
        "id": "XiiH-YkbiZHZ"
      },
      "execution_count": null,
      "outputs": []
    },
    {
      "cell_type": "markdown",
      "source": [
        "**We set aside 20% of the data for test**\n"
      ],
      "metadata": {
        "id": "8CvS1ytqgmrp"
      }
    },
    {
      "cell_type": "code",
      "source": [
        "N_tr = int(N*0.8)\n",
        "N_tst = N-N_tr\n",
        "x_tr = x[0:N_tr]\n",
        "y_tr = y[0:N_tr]\n",
        "x_tst= x[N_tr:]\n",
        "y_tst = y[N_tr:]\n",
        "plt.plot(x_tr,y_tr, 'ro', label='training data')\n",
        "plt.grid()\n",
        "plt.legend()\n",
        "plt.xlabel('x')\n",
        "plt.ylabel('y')\n",
        "plt.title('training data ')\n"
      ],
      "metadata": {
        "colab": {
          "base_uri": "https://localhost:8080/",
          "height": 312
        },
        "id": "wDGBuQZ0g4rw",
        "outputId": "c1537b1f-515a-4398-9fab-917661ce9b4c"
      },
      "execution_count": null,
      "outputs": [
        {
          "output_type": "execute_result",
          "data": {
            "text/plain": [
              "Text(0.5, 1.0, 'training data ')"
            ]
          },
          "metadata": {},
          "execution_count": 2
        },
        {
          "output_type": "display_data",
          "data": {
            "text/plain": [
              "<Figure size 432x288 with 1 Axes>"
            ],
            "image/png": "[encoded data removed]"
          },
          "metadata": {
            "needs_background": "light"
          }
        }
      ]
    },
    {
      "cell_type": "markdown",
      "source": [
        "## Problem 1.1 (20 points)\n",
        "Use polynomial dregree 2, 3, 4, and 10 to find the best fit for the generated data. Follow the proedure showed for the linear case to calculate the error for each case for training dat and for test data. "
      ],
      "metadata": {
        "id": "5ABEUl8OHZMa"
      }
    },
    {
      "cell_type": "code",
      "source": [
        "# SOLUTION FOR 2ND DEGREE POLYNOMIAL\n",
        "\n",
        "# generating the values \n",
        "x_poly_2 = np.array([np.power(x_tr,p) for p in range(3)])\n",
        "# calculating the weights\n",
        "w_m1 = np.matmul(np.linalg.inv(np.matmul(x_poly_2, np.transpose(x_poly_2))) , np.matmul(x_poly_2, y_tr))\n",
        "\n",
        "print(\"WEIGHTS FOR 2ND DEGREE ARE:\")\n",
        "print(w_m1)\n",
        "print(\" \")\n",
        "\n",
        "\n",
        "x_min, x_max = np.min(x_tr), np.max(x_tr)\n",
        "xx = np.linspace(x_min, x_max, 1000)\n",
        "\n",
        "# 2ND DEGREE POLYNOMIAL DEGREE CALCULATION\n",
        "yy = w_m1[2]* xx**2 + w_m1[1]*xx + w_m1[0]\n",
        "\n",
        "\n",
        "plt.plot(x_tr,y_tr, 'ro', label='training data')\n",
        "plt.plot(x_tst,y_tst, 'bx', label='test data')\n",
        "plt.plot(xx,yy, label= 'estimated line')\n",
        "plt.grid()\n",
        "plt.legend()\n",
        "plt.xlabel('x')\n",
        "plt.ylabel('y')\n",
        "plt.title('training data and maximum likelihood estimate of the curve descring the data')\n",
        "\n",
        "# calculating error for second degree polynomial\n",
        "'''\n",
        "stacking np.ones in x_tr to make the dimension match the dimension of w_m1\n",
        "'''\n",
        "# X_tr = np.vstack(( np.ones(len(x_tr)), np.ones(len(x_tr)),x_tr))\n",
        "# X_tst = np.vstack((np.ones(len(x_tst)), np.ones(len(x_tst)),x_tst))\n",
        "\n",
        "X_tr = x_poly_2\n",
        "X_tst = np.array([np.power(x_tst,p) for p in range(3)])\n",
        "\n",
        "training_error = np.mean(np.square(np.matmul(w_m1, X_tr) - y_tr))\n",
        "test_error = np.mean(np.square(np.matmul(w_m1, X_tst) - y_tst))\n",
        "\n",
        "print('Error_training = ', training_error)\n",
        "print('Error_Test = ', test_error)\n",
        "print(\" \")\n",
        "print(\"GRAPH FOR 2ND DEGREE POLYNOMIAL\")"
      ],
      "metadata": {
        "id": "0_xdl3gO4IdD",
        "outputId": "d274d960-b6d3-4e8e-e22a-6ea1f502f392",
        "colab": {
          "base_uri": "https://localhost:8080/",
          "height": 1000
        }
      },
      "execution_count": null,
      "outputs": [
        {
          "output_type": "stream",
          "name": "stdout",
          "text": [
            "WEIGHTS FOR 2ND DEGREE ARE:\n",
            "[ 1.83781215 -6.91062397  0.35446596]\n",
            " \n",
            "[ 8.48437216e+01  8.46432989e+01  8.44430485e+01  8.42429703e+01\n",
            "  8.40430644e+01  8.38433308e+01  8.36437695e+01  8.34443805e+01\n",
            "  8.32451637e+01  8.30461191e+01  8.28472469e+01  8.26485469e+01\n",
            "  8.24500192e+01  8.22516638e+01  8.20534806e+01  8.18554697e+01\n",
            "  8.16576311e+01  8.14599647e+01  8.12624706e+01  8.10651488e+01\n",
            "  8.08679993e+01  8.06710220e+01  8.04742170e+01  8.02775842e+01\n",
            "  8.00811238e+01  7.98848356e+01  7.96887197e+01  7.94927760e+01\n",
            "  7.92970046e+01  7.91014055e+01  7.89059787e+01  7.87107241e+01\n",
            "  7.85156418e+01  7.83207318e+01  7.81259940e+01  7.79314285e+01\n",
            "  7.77370353e+01  7.75428143e+01  7.73487657e+01  7.71548892e+01\n",
            "  7.69611851e+01  7.67676532e+01  7.65742936e+01  7.63811063e+01\n",
            "  7.61880913e+01  7.59952485e+01  7.58025779e+01  7.56100797e+01\n",
            "  7.54177537e+01  7.52256000e+01  7.50336186e+01  7.48418094e+01\n",
            "  7.46501725e+01  7.44587079e+01  7.42674155e+01  7.40762955e+01\n",
            "  7.38853476e+01  7.36945721e+01  7.35039688e+01  7.33135378e+01\n",
            "  7.31232791e+01  7.29331926e+01  7.27432784e+01  7.25535365e+01\n",
            "  7.23639669e+01  7.21745695e+01  7.19853444e+01  7.17962915e+01\n",
            "  7.16074109e+01  7.14187026e+01  7.12301666e+01  7.10418029e+01\n",
            "  7.08536114e+01  7.06655922e+01  7.04777452e+01  7.02900705e+01\n",
            "  7.01025681e+01  6.99152380e+01  6.97280801e+01  6.95410945e+01\n",
            "  6.93542812e+01  6.91676401e+01  6.89811713e+01  6.87948748e+01\n",
            "  6.86087506e+01  6.84227986e+01  6.82370189e+01  6.80514115e+01\n",
            "  6.78659763e+01  6.76807134e+01  6.74956228e+01  6.73107044e+01\n",
            "  6.71259584e+01  6.69413845e+01  6.67569830e+01  6.65727537e+01\n",
            "  6.63886967e+01  6.62048120e+01  6.60210995e+01  6.58375593e+01\n",
            "  6.56541914e+01  6.54709958e+01  6.52879724e+01  6.51051213e+01\n",
            "  6.49224424e+01  6.47399359e+01  6.45576016e+01  6.43754396e+01\n",
            "  6.41934498e+01  6.40116323e+01  6.38299871e+01  6.36485141e+01\n",
            "  6.34672135e+01  6.32860851e+01  6.31051289e+01  6.29243451e+01\n",
            "  6.27437335e+01  6.25632941e+01  6.23830271e+01  6.22029323e+01\n",
            "  6.20230098e+01  6.18432595e+01  6.16636816e+01  6.14842759e+01\n",
            "  6.13050424e+01  6.11259813e+01  6.09470924e+01  6.07683758e+01\n",
            "  6.05898314e+01  6.04114593e+01  6.02332595e+01  6.00552320e+01\n",
            "  5.98773767e+01  5.96996937e+01  5.95221830e+01  5.93448445e+01\n",
            "  5.91676783e+01  5.89906844e+01  5.88138628e+01  5.86372134e+01\n",
            "  5.84607363e+01  5.82844315e+01  5.81082989e+01  5.79323386e+01\n",
            "  5.77565506e+01  5.75809348e+01  5.74054913e+01  5.72302201e+01\n",
            "  5.70551212e+01  5.68801945e+01  5.67054401e+01  5.65308580e+01\n",
            "  5.63564481e+01  5.61822105e+01  5.60081452e+01  5.58342521e+01\n",
            "  5.56605313e+01  5.54869828e+01  5.53136066e+01  5.51404026e+01\n",
            "  5.49673709e+01  5.47945115e+01  5.46218243e+01  5.44493094e+01\n",
            "  5.42769668e+01  5.41047965e+01  5.39327984e+01  5.37609726e+01\n",
            "  5.35893191e+01  5.34178378e+01  5.32465288e+01  5.30753921e+01\n",
            "  5.29044276e+01  5.27336354e+01  5.25630155e+01  5.23925679e+01\n",
            "  5.22222925e+01  5.20521894e+01  5.18822585e+01  5.17125000e+01\n",
            "  5.15429137e+01  5.13734997e+01  5.12042579e+01  5.10351884e+01\n",
            "  5.08662912e+01  5.06975663e+01  5.05290136e+01  5.03606332e+01\n",
            "  5.01924251e+01  5.00243892e+01  4.98565256e+01  4.96888343e+01\n",
            "  4.95213152e+01  4.93539685e+01  4.91867940e+01  4.90197917e+01\n",
            "  4.88529618e+01  4.86863041e+01  4.85198186e+01  4.83535055e+01\n",
            "  4.81873646e+01  4.80213960e+01  4.78555996e+01  4.76899755e+01\n",
            "  4.75245237e+01  4.73592442e+01  4.71941369e+01  4.70292019e+01\n",
            "  4.68644392e+01  4.66998488e+01  4.65354306e+01  4.63711847e+01\n",
            "  4.62071110e+01  4.60432096e+01  4.58794805e+01  4.57159237e+01\n",
            "  4.55525392e+01  4.53893269e+01  4.52262868e+01  4.50634191e+01\n",
            "  4.49007236e+01  4.47382004e+01  4.45758495e+01  4.44136708e+01\n",
            "  4.42516644e+01  4.40898303e+01  4.39281684e+01  4.37666788e+01\n",
            "  4.36053615e+01  4.34442164e+01  4.32832437e+01  4.31224432e+01\n",
            "  4.29618149e+01  4.28013590e+01  4.26410753e+01  4.24809638e+01\n",
            "  4.23210247e+01  4.21612578e+01  4.20016632e+01  4.18422408e+01\n",
            "  4.16829908e+01  4.15239130e+01  4.13650074e+01  4.12062742e+01\n",
            "  4.10477132e+01  4.08893244e+01  4.07311080e+01  4.05730638e+01\n",
            "  4.04151919e+01  4.02574923e+01  4.00999649e+01  3.99426098e+01\n",
            "  3.97854270e+01  3.96284164e+01  3.94715781e+01  3.93149121e+01\n",
            "  3.91584183e+01  3.90020969e+01  3.88459477e+01  3.86899707e+01\n",
            "  3.85341661e+01  3.83785337e+01  3.82230735e+01  3.80677857e+01\n",
            "  3.79126701e+01  3.77577268e+01  3.76029557e+01  3.74483570e+01\n",
            "  3.72939304e+01  3.71396762e+01  3.69855942e+01  3.68316846e+01\n",
            "  3.66779471e+01  3.65243820e+01  3.63709891e+01  3.62177685e+01\n",
            "  3.60647201e+01  3.59118441e+01  3.57591403e+01  3.56066087e+01\n",
            "  3.54542495e+01  3.53020625e+01  3.51500478e+01  3.49982053e+01\n",
            "  3.48465351e+01  3.46950372e+01  3.45437116e+01  3.43925582e+01\n",
            "  3.42415771e+01  3.40907683e+01  3.39401317e+01  3.37896674e+01\n",
            "  3.36393754e+01  3.34892557e+01  3.33393082e+01  3.31895330e+01\n",
            "  3.30399301e+01  3.28904994e+01  3.27412410e+01  3.25921549e+01\n",
            "  3.24432410e+01  3.22944994e+01  3.21459301e+01  3.19975331e+01\n",
            "  3.18493083e+01  3.17012558e+01  3.15533756e+01  3.14056676e+01\n",
            "  3.12581319e+01  3.11107685e+01  3.09635774e+01  3.08165585e+01\n",
            "  3.06697119e+01  3.05230375e+01  3.03765355e+01  3.02302057e+01\n",
            "  3.00840481e+01  2.99380629e+01  2.97922499e+01  2.96466092e+01\n",
            "  2.95011407e+01  2.93558445e+01  2.92107206e+01  2.90657690e+01\n",
            "  2.89209896e+01  2.87763825e+01  2.86319477e+01  2.84876851e+01\n",
            "  2.83435949e+01  2.81996768e+01  2.80559311e+01  2.79123576e+01\n",
            "  2.77689564e+01  2.76257275e+01  2.74826708e+01  2.73397864e+01\n",
            "  2.71970743e+01  2.70545345e+01  2.69121669e+01  2.67699716e+01\n",
            "  2.66279485e+01  2.64860978e+01  2.63444193e+01  2.62029130e+01\n",
            "  2.60615791e+01  2.59204174e+01  2.57794280e+01  2.56386108e+01\n",
            "  2.54979659e+01  2.53574933e+01  2.52171930e+01  2.50770649e+01\n",
            "  2.49371091e+01  2.47973256e+01  2.46577143e+01  2.45182753e+01\n",
            "  2.43790086e+01  2.42399142e+01  2.41009920e+01  2.39622421e+01\n",
            "  2.38236645e+01  2.36852591e+01  2.35470260e+01  2.34089652e+01\n",
            "  2.32710766e+01  2.31333604e+01  2.29958163e+01  2.28584446e+01\n",
            "  2.27212451e+01  2.25842179e+01  2.24473630e+01  2.23106803e+01\n",
            "  2.21741699e+01  2.20378318e+01  2.19016660e+01  2.17656724e+01\n",
            "  2.16298511e+01  2.14942020e+01  2.13587253e+01  2.12234208e+01\n",
            "  2.10882886e+01  2.09533286e+01  2.08185409e+01  2.06839255e+01\n",
            "  2.05494823e+01  2.04152115e+01  2.02811129e+01  2.01471865e+01\n",
            "  2.00134325e+01  1.98798507e+01  1.97464411e+01  1.96132039e+01\n",
            "  1.94801389e+01  1.93472462e+01  1.92145257e+01  1.90819776e+01\n",
            "  1.89496017e+01  1.88173980e+01  1.86853667e+01  1.85535076e+01\n",
            "  1.84218208e+01  1.82903062e+01  1.81589639e+01  1.80277939e+01\n",
            "  1.78967962e+01  1.77659707e+01  1.76353175e+01  1.75048366e+01\n",
            "  1.73745279e+01  1.72443915e+01  1.71144274e+01  1.69846356e+01\n",
            "  1.68550160e+01  1.67255687e+01  1.65962936e+01  1.64671909e+01\n",
            "  1.63382604e+01  1.62095022e+01  1.60809162e+01  1.59525025e+01\n",
            "  1.58242611e+01  1.56961920e+01  1.55682951e+01  1.54405705e+01\n",
            "  1.53130181e+01  1.51856381e+01  1.50584303e+01  1.49313948e+01\n",
            "  1.48045315e+01  1.46778405e+01  1.45513218e+01  1.44249754e+01\n",
            "  1.42988012e+01  1.41727993e+01  1.40469697e+01  1.39213123e+01\n",
            "  1.37958272e+01  1.36705144e+01  1.35453739e+01  1.34204056e+01\n",
            "  1.32956096e+01  1.31709858e+01  1.30465344e+01  1.29222552e+01\n",
            "  1.27981482e+01  1.26742136e+01  1.25504512e+01  1.24268611e+01\n",
            "  1.23034432e+01  1.21801977e+01  1.20571244e+01  1.19342233e+01\n",
            "  1.18114946e+01  1.16889381e+01  1.15665538e+01  1.14443419e+01\n",
            "  1.13223022e+01  1.12004348e+01  1.10787397e+01  1.09572168e+01\n",
            "  1.08358662e+01  1.07146879e+01  1.05936818e+01  1.04728480e+01\n",
            "  1.03521865e+01  1.02316972e+01  1.01113803e+01  9.99123554e+00\n",
            "  9.87126310e+00  9.75146293e+00  9.63183503e+00  9.51237941e+00\n",
            "  9.39309605e+00  9.27398496e+00  9.15504614e+00  9.03627960e+00\n",
            "  8.91768532e+00  8.79926332e+00  8.68101358e+00  8.56293611e+00\n",
            "  8.44503092e+00  8.32729799e+00  8.20973734e+00  8.09234896e+00\n",
            "  7.97513284e+00  7.85808900e+00  7.74121743e+00  7.62451812e+00\n",
            "  7.50799109e+00  7.39163633e+00  7.27545384e+00  7.15944362e+00\n",
            "  7.04360566e+00  6.92793998e+00  6.81244657e+00  6.69712543e+00\n",
            "  6.58197656e+00  6.46699996e+00  6.35219563e+00  6.23756358e+00\n",
            "  6.12310379e+00  6.00881627e+00  5.89470102e+00  5.78075804e+00\n",
            "  5.66698734e+00  5.55338890e+00  5.43996273e+00  5.32670884e+00\n",
            "  5.21362721e+00  5.10071786e+00  4.98798077e+00  4.87541596e+00\n",
            "  4.76302341e+00  4.65080314e+00  4.53875513e+00  4.42687940e+00\n",
            "  4.31517594e+00  4.20364474e+00  4.09228582e+00  3.98109917e+00\n",
            "  3.87008479e+00  3.75924268e+00  3.64857283e+00  3.53807526e+00\n",
            "  3.42774996e+00  3.31759693e+00  3.20761617e+00  3.09780768e+00\n",
            "  2.98817146e+00  2.87870751e+00  2.76941584e+00  2.66029643e+00\n",
            "  2.55134929e+00  2.44257442e+00  2.33397183e+00  2.22554150e+00\n",
            "  2.11728344e+00  2.00919766e+00  1.90128414e+00  1.79354289e+00\n",
            "  1.68597392e+00  1.57857721e+00  1.47135278e+00  1.36430061e+00\n",
            "  1.25742072e+00  1.15071310e+00  1.04417774e+00  9.37814660e-01\n",
            "  8.31623848e-01  7.25605305e-01  6.19759033e-01  5.14085032e-01\n",
            "  4.08583300e-01  3.03253839e-01  1.98096649e-01  9.31117281e-02\n",
            " -1.17009219e-02 -1.16341302e-01 -2.20809411e-01 -3.25105250e-01\n",
            " -4.29228819e-01 -5.33180117e-01 -6.36959145e-01 -7.40565903e-01\n",
            " -8.44000390e-01 -9.47262608e-01 -1.05035255e+00 -1.15327023e+00\n",
            " -1.25601564e+00 -1.35858877e+00 -1.46098964e+00 -1.56321823e+00\n",
            " -1.66527456e+00 -1.76715861e+00 -1.86887040e+00 -1.97040991e+00\n",
            " -2.07177715e+00 -2.17297213e+00 -2.27399483e+00 -2.37484526e+00\n",
            " -2.47552342e+00 -2.57602932e+00 -2.67636294e+00 -2.77652429e+00\n",
            " -2.87651337e+00 -2.97633018e+00 -3.07597472e+00 -3.17544699e+00\n",
            " -3.27474699e+00 -3.37387472e+00 -3.47283018e+00 -3.57161337e+00\n",
            " -3.67022428e+00 -3.76866293e+00 -3.86692931e+00 -3.96502342e+00\n",
            " -4.06294525e+00 -4.16069482e+00 -4.25827212e+00 -4.35567714e+00\n",
            " -4.45290990e+00 -4.54997038e+00 -4.64685860e+00 -4.74357454e+00\n",
            " -4.84011822e+00 -4.93648962e+00 -5.03268876e+00 -5.12871562e+00\n",
            " -5.22457021e+00 -5.32025253e+00 -5.41576259e+00 -5.51110037e+00\n",
            " -5.60626588e+00 -5.70125912e+00 -5.79608009e+00 -5.89072879e+00\n",
            " -5.98520522e+00 -6.07950938e+00 -6.17364127e+00 -6.26760089e+00\n",
            " -6.36138824e+00 -6.45500332e+00 -6.54844613e+00 -6.64171667e+00\n",
            " -6.73481493e+00 -6.82774093e+00 -6.92049466e+00 -7.01307611e+00\n",
            " -7.10548530e+00 -7.19772222e+00 -7.28978686e+00 -7.38167924e+00\n",
            " -7.47339934e+00 -7.56494718e+00 -7.65632274e+00 -7.74752604e+00\n",
            " -7.83855706e+00 -7.92941581e+00 -8.02010230e+00 -8.11061651e+00\n",
            " -8.20095845e+00 -8.29112812e+00 -8.38112553e+00 -8.47095066e+00\n",
            " -8.56060352e+00 -8.65008411e+00 -8.73939243e+00 -8.82852848e+00\n",
            " -8.91749226e+00 -9.00628377e+00 -9.09490301e+00 -9.18334998e+00\n",
            " -9.27162468e+00 -9.35972710e+00 -9.44765726e+00 -9.53541515e+00\n",
            " -9.62300077e+00 -9.71041411e+00 -9.79765519e+00 -9.88472400e+00\n",
            " -9.97162053e+00 -1.00583448e+01 -1.01448968e+01 -1.02312765e+01\n",
            " -1.03174840e+01 -1.04035192e+01 -1.04893821e+01 -1.05750727e+01\n",
            " -1.06605911e+01 -1.07459372e+01 -1.08311110e+01 -1.09161126e+01\n",
            " -1.10009419e+01 -1.10855989e+01 -1.11700836e+01 -1.12543961e+01\n",
            " -1.13385363e+01 -1.14225043e+01 -1.15063000e+01 -1.15899233e+01\n",
            " -1.16733745e+01 -1.17566533e+01 -1.18397599e+01 -1.19226942e+01\n",
            " -1.20054563e+01 -1.20880461e+01 -1.21704636e+01 -1.22527088e+01\n",
            " -1.23347818e+01 -1.24166825e+01 -1.24984109e+01 -1.25799671e+01\n",
            " -1.26613509e+01 -1.27425626e+01 -1.28236019e+01 -1.29044690e+01\n",
            " -1.29851638e+01 -1.30656863e+01 -1.31460366e+01 -1.32262146e+01\n",
            " -1.33062203e+01 -1.33860537e+01 -1.34657149e+01 -1.35452038e+01\n",
            " -1.36245205e+01 -1.37036649e+01 -1.37826370e+01 -1.38614368e+01\n",
            " -1.39400643e+01 -1.40185196e+01 -1.40968027e+01 -1.41749134e+01\n",
            " -1.42528519e+01 -1.43306181e+01 -1.44082120e+01 -1.44856337e+01\n",
            " -1.45628831e+01 -1.46399602e+01 -1.47168651e+01 -1.47935977e+01\n",
            " -1.48701580e+01 -1.49465460e+01 -1.50227618e+01 -1.50988053e+01\n",
            " -1.51746765e+01 -1.52503755e+01 -1.53259022e+01 -1.54012566e+01\n",
            " -1.54764388e+01 -1.55514487e+01 -1.56262863e+01 -1.57009516e+01\n",
            " -1.57754447e+01 -1.58497655e+01 -1.59239140e+01 -1.59978903e+01\n",
            " -1.60716943e+01 -1.61453260e+01 -1.62187854e+01 -1.62920726e+01\n",
            " -1.63651875e+01 -1.64381302e+01 -1.65109005e+01 -1.65834986e+01\n",
            " -1.66559245e+01 -1.67281780e+01 -1.68002593e+01 -1.68721683e+01\n",
            " -1.69439051e+01 -1.70154696e+01 -1.70868618e+01 -1.71580817e+01\n",
            " -1.72291294e+01 -1.73000048e+01 -1.73707079e+01 -1.74412387e+01\n",
            " -1.75115973e+01 -1.75817836e+01 -1.76517977e+01 -1.77216395e+01\n",
            " -1.77913090e+01 -1.78608062e+01 -1.79301311e+01 -1.79992838e+01\n",
            " -1.80682643e+01 -1.81370724e+01 -1.82057083e+01 -1.82741719e+01\n",
            " -1.83424632e+01 -1.84105823e+01 -1.84785291e+01 -1.85463036e+01\n",
            " -1.86139059e+01 -1.86813359e+01 -1.87485936e+01 -1.88156791e+01\n",
            " -1.88825922e+01 -1.89493331e+01 -1.90159018e+01 -1.90822981e+01\n",
            " -1.91485222e+01 -1.92145741e+01 -1.92804536e+01 -1.93461609e+01\n",
            " -1.94116959e+01 -1.94770587e+01 -1.95422491e+01 -1.96072674e+01\n",
            " -1.96721133e+01 -1.97367869e+01 -1.98012883e+01 -1.98656175e+01\n",
            " -1.99297743e+01 -1.99937589e+01 -2.00575712e+01 -2.01212113e+01\n",
            " -2.01846790e+01 -2.02479745e+01 -2.03110978e+01 -2.03740487e+01\n",
            " -2.04368274e+01 -2.04994338e+01 -2.05618680e+01 -2.06241299e+01\n",
            " -2.06862195e+01 -2.07481368e+01 -2.08098819e+01 -2.08714547e+01\n",
            " -2.09328552e+01 -2.09940834e+01 -2.10551394e+01 -2.11160231e+01\n",
            " -2.11767346e+01 -2.12372738e+01 -2.12976407e+01 -2.13578353e+01\n",
            " -2.14178577e+01 -2.14777078e+01 -2.15373856e+01 -2.15968911e+01\n",
            " -2.16562244e+01 -2.17153854e+01 -2.17743742e+01 -2.18331907e+01\n",
            " -2.18918349e+01 -2.19503068e+01 -2.20086065e+01 -2.20667338e+01\n",
            " -2.21246890e+01 -2.21824718e+01 -2.22400824e+01 -2.22975207e+01\n",
            " -2.23547867e+01 -2.24118805e+01 -2.24688020e+01 -2.25255512e+01\n",
            " -2.25821282e+01 -2.26385329e+01 -2.26947653e+01 -2.27508254e+01\n",
            " -2.28067133e+01 -2.28624289e+01 -2.29179723e+01 -2.29733433e+01\n",
            " -2.30285421e+01 -2.30835687e+01 -2.31384229e+01 -2.31931049e+01\n",
            " -2.32476146e+01 -2.33019521e+01 -2.33561172e+01 -2.34101101e+01\n",
            " -2.34639308e+01 -2.35175791e+01 -2.35710552e+01 -2.36243590e+01\n",
            " -2.36774906e+01 -2.37304499e+01 -2.37832369e+01 -2.38358516e+01\n",
            " -2.38882941e+01 -2.39405643e+01 -2.39926622e+01 -2.40445879e+01\n",
            " -2.40963413e+01 -2.41479224e+01 -2.41993312e+01 -2.42505678e+01\n",
            " -2.43016321e+01 -2.43525242e+01 -2.44032439e+01 -2.44537914e+01\n",
            " -2.45041666e+01 -2.45543696e+01 -2.46044003e+01 -2.46542587e+01\n",
            " -2.47039448e+01 -2.47534587e+01 -2.48028003e+01 -2.48519697e+01\n",
            " -2.49009667e+01 -2.49497915e+01 -2.49984440e+01 -2.50469243e+01\n",
            " -2.50952323e+01 -2.51433680e+01 -2.51913314e+01 -2.52391226e+01\n",
            " -2.52867415e+01 -2.53341881e+01 -2.53814625e+01 -2.54285646e+01\n",
            " -2.54754944e+01 -2.55222519e+01 -2.55688372e+01 -2.56152502e+01\n",
            " -2.56614910e+01 -2.57075594e+01 -2.57534556e+01 -2.57991796e+01\n",
            " -2.58447312e+01 -2.58901106e+01 -2.59353177e+01 -2.59803526e+01\n",
            " -2.60252151e+01 -2.60699055e+01 -2.61144235e+01 -2.61587693e+01\n",
            " -2.62029427e+01 -2.62469440e+01 -2.62907729e+01 -2.63344296e+01\n",
            " -2.63779140e+01 -2.64212262e+01 -2.64643660e+01 -2.65073336e+01\n",
            " -2.65501290e+01 -2.65927520e+01 -2.66352028e+01 -2.66774813e+01\n",
            " -2.67195876e+01 -2.67615216e+01 -2.68032833e+01 -2.68448727e+01\n",
            " -2.68862899e+01 -2.69275348e+01 -2.69686074e+01 -2.70095078e+01\n",
            " -2.70502359e+01 -2.70907917e+01 -2.71311752e+01 -2.71713865e+01\n",
            " -2.72114255e+01 -2.72512922e+01 -2.72909867e+01 -2.73305089e+01\n",
            " -2.73698588e+01 -2.74090365e+01 -2.74480419e+01 -2.74868750e+01\n",
            " -2.75255358e+01 -2.75640244e+01 -2.76023407e+01 -2.76404847e+01\n",
            " -2.76784565e+01 -2.77162560e+01 -2.77538832e+01 -2.77913382e+01\n",
            " -2.78286208e+01 -2.78657313e+01 -2.79026694e+01 -2.79394353e+01\n",
            " -2.79760289e+01 -2.80124502e+01 -2.80486993e+01 -2.80847760e+01\n",
            " -2.81206806e+01 -2.81564128e+01 -2.81919728e+01 -2.82273605e+01\n",
            " -2.82625759e+01 -2.82976191e+01 -2.83324900e+01 -2.83671886e+01\n",
            " -2.84017150e+01 -2.84360691e+01 -2.84702509e+01 -2.85042604e+01\n",
            " -2.85380977e+01 -2.85717627e+01 -2.86052554e+01 -2.86385759e+01\n",
            " -2.86717241e+01 -2.87047000e+01 -2.87375037e+01 -2.87701351e+01\n",
            " -2.88025942e+01 -2.88348810e+01 -2.88669956e+01 -2.88989379e+01\n",
            " -2.89307079e+01 -2.89623057e+01 -2.89937312e+01 -2.90249844e+01\n",
            " -2.90560653e+01 -2.90869740e+01 -2.91177104e+01 -2.91482746e+01\n",
            " -2.91786664e+01 -2.92088860e+01 -2.92389333e+01 -2.92688084e+01\n",
            " -2.92985112e+01 -2.93280417e+01 -2.93574000e+01 -2.93865859e+01\n",
            " -2.94155996e+01 -2.94444411e+01 -2.94731102e+01 -2.95016071e+01]\n",
            "Error_training =  256.2163608034787\n",
            "Error_Test =  231.93440199462106\n",
            " \n",
            "GRAPH FOR 2ND DEGREE POLYNOMIAL\n"
          ]
        },
        {
          "output_type": "display_data",
          "data": {
            "text/plain": [
              "<Figure size 432x288 with 1 Axes>"
            ],
            "image/png": "[encoded data removed]"
          },
          "metadata": {
            "needs_background": "light"
          }
        }
      ]
    },
    {
      "cell_type": "code",
      "source": [
        "# SOLUTION FOR DEGREE 3 POLYNOMIAL\n",
        "\n",
        "# generating the values\n",
        "x_poly_3 = np.array([np.power(x_tr,p) for p in range(4)])\n",
        "# calculating the weights\n",
        "w_m2 = np.matmul(np.linalg.inv(np.matmul(x_poly_3, np.transpose(x_poly_3))) , np.matmul(x_poly_3,y_tr))\n",
        "\n",
        "print(\"THE WEIGHTS FOR 3RD DEGREE ARE:\")\n",
        "print(w_m2)\n",
        "print(\"\")\n",
        "\n",
        "x_min, x_max = np.min(x_tr), np.max(x_tr)\n",
        "xx = np.linspace(x_min, x_max, 1000)\n",
        "\n",
        "# DEGREE 3 POLYNOMIAL CALCULATION\n",
        "yy = w_m2[3]* (xx**3) + w_m2[2]*(xx**2) + w_m2[1]*(xx) + w_m2[0]\n",
        "\n",
        "plt.plot(x_tr,y_tr, 'ro', label='training data')\n",
        "plt.plot(x_tst,y_tst, 'bx', label='test data')\n",
        "plt.plot(xx,yy, label= 'estimated line')\n",
        "plt.grid()\n",
        "plt.legend()\n",
        "plt.xlabel('x')\n",
        "plt.ylabel('y')\n",
        "plt.title('training data and maximum likelihood estimate of the curve descring the data')\n",
        "\n",
        "# calculating error for Third degree polynomial\n",
        "'''\n",
        "stacking np.ones in x_tr to make the dimension match the dimension of w_m1\n",
        "'''\n",
        "\n",
        "# X_tr = np.vstack((np.ones(len(x_tr)), np.ones(len(x_tr)), np.ones(len(x_tr)), x_tr))\n",
        "# X_tst = np.vstack((np.ones(len(x_tst)), np.ones(len(x_tst)), np.ones(len(x_tst)), x_tst))\n",
        "\n",
        "X_tr = x_poly_3\n",
        "X_tst = np.array([np.power(x_tst,p) for p in range(4)])\n",
        "\n",
        "training_error = np.mean(np.square(np.matmul(w_m2, X_tr) - y_tr))\n",
        "test_error = np.mean(np.square(np.matmul(w_m2, X_tst) - y_tst))\n",
        "\n",
        "print('Error_training = ', training_error)\n",
        "print('Error_Test = ', test_error)\n",
        "print(\" \")\n",
        "print(\"GRAPH FOR 3RD DEGREE POLYNOMIAL\")"
      ],
      "metadata": {
        "colab": {
          "base_uri": "https://localhost:8080/",
          "height": 417
        },
        "id": "GrHxkeEOio_u",
        "outputId": "1fa236b1-ab12-4cda-8f8a-5d6b09b51318"
      },
      "execution_count": null,
      "outputs": [
        {
          "output_type": "stream",
          "name": "stdout",
          "text": [
            "THE WEIGHTS FOR 3RD DEGREE ARE:\n",
            "[ 4.1650867  -1.18585499  0.15925893 -0.19822556]\n",
            "\n",
            "Error_training =  87.58695633561258\n",
            "Error_Test =  122.1837094942197\n",
            " \n",
            "GRAPH FOR 3RD DEGREE POLYNOMIAL\n"
          ]
        },
        {
          "output_type": "display_data",
          "data": {
            "text/plain": [
              "<Figure size 432x288 with 1 Axes>"
            ],
            "image/png": "[encoded data removed]"
          },
          "metadata": {
            "needs_background": "light"
          }
        }
      ]
    },
    {
      "cell_type": "code",
      "source": [
        "# SOLUTION FOR DEGREE 4\n",
        "\n",
        "# generating the values\n",
        "x_poly_4 = np.array([np.power(x_tr,p) for p in range(5)])\n",
        "# calculating the weights\n",
        "w_m3 = np.matmul(np.linalg.inv(np.matmul(x_poly_4, np.transpose(x_poly_4))) , np.matmul(x_poly_4,y_tr))\n",
        "\n",
        "print(\"WEIGHTS FOR 4TH DEGREE ARE:\")\n",
        "print(w_m3)\n",
        "print(\" \")\n",
        "\n",
        "x_min, x_max = np.min(x_tr), np.max(x_tr)\n",
        "xx = np.linspace(x_min, x_max, 1000)\n",
        "\n",
        "# Fourth Degree Polynomial calculation\n",
        "yy = w_m3[4]* (xx**4) + w_m3[3]*(xx**3) + w_m3[2]*(xx**2) + w_m3[1]*(xx) + w_m3[0]\n",
        "\n",
        "plt.plot(x_tr,y_tr, 'ro', label='training data')\n",
        "plt.plot(x_tst,y_tst, 'bx', label='test data')\n",
        "plt.plot(xx,yy, label= 'estimated line')\n",
        "plt.grid()\n",
        "plt.legend()\n",
        "plt.xlabel('x')\n",
        "plt.ylabel('y')\n",
        "plt.title('training data and maximum likelihood estimate of the curve descring the data')\n",
        "\n",
        "# calculating error for Fourth degree polynomial\n",
        "'''\n",
        "stacking np.ones in x_tr to make the dimension match the dimension of w_m3\n",
        "'''\n",
        "# X_tr = np.vstack((np.ones(len(x_tr)),np.ones(len(x_tr)),np.ones(len(x_tr)),np.ones(len(x_tr)), x_tr))\n",
        "# X_tst = np.vstack((np.ones(len(x_tst)),np.ones(len(x_tst)),np.ones(len(x_tst)),np.ones(len(x_tst)), x_tst))\n",
        "\n",
        "X_tr = x_poly_4\n",
        "X_tst = np.array([np.power(x_tst,p) for p in range(5)])\n",
        "\n",
        "training_error = np.mean(np.square(np.matmul(w_m3, X_tr) - y_tr))\n",
        "test_error = np.mean(np.square(np.matmul(w_m3, X_tst) - y_tst))\n",
        "print('Error_training = ', training_error)\n",
        "print('Error_Test = ', test_error)\n",
        "print(\" \")\n",
        "print(\"GRAPH FOR 4TH DEGREE\")"
      ],
      "metadata": {
        "colab": {
          "base_uri": "https://localhost:8080/",
          "height": 417
        },
        "id": "9Vs2R_nrGKa2",
        "outputId": "2d87b53d-0a6e-444b-ff5a-0242ebabe24e"
      },
      "execution_count": null,
      "outputs": [
        {
          "output_type": "stream",
          "name": "stdout",
          "text": [
            "WEIGHTS FOR 4TH DEGREE ARE:\n",
            "[ 2.56035359 -1.00470033  0.48304873 -0.20862897 -0.00652276]\n",
            " \n",
            "Error_training =  84.80020948702764\n",
            "Error_Test =  128.56855395240157\n",
            " \n",
            "GRAPH FOR 4TH DEGREE\n"
          ]
        },
        {
          "output_type": "display_data",
          "data": {
            "text/plain": [
              "<Figure size 432x288 with 1 Axes>"
            ],
            "image/png": "[encoded data removed]"
          },
          "metadata": {
            "needs_background": "light"
          }
        }
      ]
    },
    {
      "cell_type": "code",
      "source": [
        "# SOLUTION FOR 10TH DEGREE\n",
        "\n",
        "# generating the values\n",
        "x_poly_10 = np.array([np.power(x_tr,p) for p in range(11)])\n",
        "# calculating the weights\n",
        "w_m4 = np.matmul(np.linalg.inv(np.matmul(x_poly_10, np.transpose(x_poly_10))) , np.matmul(x_poly_10,y_tr))\n",
        "\n",
        "print(\"WEIGHTS FOR 10TH DEGREE ARE:\")\n",
        "print(w_m4)\n",
        "print(\" \")\n",
        "\n",
        "x_min, x_max = np.min(x_tr), np.max(x_tr)\n",
        "xx = np.linspace(x_min, x_max, 1000)\n",
        "\n",
        "# 10TH DEGREE CALCULATION \n",
        "yy = w_m4[10]* (xx**10) + w_m4[9]*(xx**9) + w_m4[8]*(xx**8) + w_m4[7]*(xx**7) + w_m4[6]*(xx**6)\\\n",
        " + w_m4[5]*(xx**5)+ w_m4[4]*(xx**4)+ w_m4[3]*(xx**3)+ w_m4[2]*(xx**2)+ w_m4[1]*(xx) + w_m4[0] \n",
        " \n",
        "plt.plot(x_tr,y_tr, 'ro', label='training data')\n",
        "plt.plot(x_tst,y_tst, 'bx', label='test data')\n",
        "plt.plot(xx,yy, label= 'estimated line')\n",
        "plt.grid()\n",
        "plt.legend()\n",
        "plt.xlabel('x')\n",
        "plt.ylabel('y')\n",
        "plt.title('training data and maximum likelihood estimate of the curve descring the data')\n",
        "\n",
        "# calculating error for TENTH degree polynomial\n",
        "'''\n",
        "stacking np.ones in x_tr to make the dimension match the dimension of w_m4\n",
        "'''\n",
        "# X_tr = np.vstack((np.ones(len(x_tr)),np.ones(len(x_tr)),np.ones(len(x_tr)),np.ones(len(x_tr)),np.ones(len(x_tr)),np.ones(len(x_tr)),np.ones(len(x_tr)),np.ones(len(x_tr)),np.ones(len(x_tr)),np.ones(len(x_tr)),x_tr))\n",
        "# X_tst = np.vstack((np.ones(len(x_tst)),np.ones(len(x_tst)),np.ones(len(x_tst)),np.ones(len(x_tst)),np.ones(len(x_tst)),np.ones(len(x_tst)),np.ones(len(x_tst)),np.ones(len(x_tst)),np.ones(len(x_tst)),np.ones(len(x_tst)),x_tst))\n",
        "\n",
        "X_tr = x_poly_10\n",
        "X_tst = np.array([np.power(x_tst,p) for p in range(11)])\n",
        "\n",
        "training_error = np.mean(np.square(np.matmul(w_m4, X_tr) - y_tr))\n",
        "test_error = np.mean(np.square(np.matmul(w_m4, X_tst) - y_tst))\n",
        "print('Error_training = ', training_error)\n",
        "print('Error_Test = ', test_error)\n",
        "print(\" \")\n",
        "print(\"GRAPH FOR 10TH DEGREE\")\n"
      ],
      "metadata": {
        "colab": {
          "base_uri": "https://localhost:8080/",
          "height": 451
        },
        "id": "OZ4r47-XHw2g",
        "outputId": "687f6c99-fcdf-40bf-a677-20f928654301"
      },
      "execution_count": null,
      "outputs": [
        {
          "output_type": "stream",
          "name": "stdout",
          "text": [
            "WEIGHTS FOR 10TH DEGREE ARE:\n",
            "[ 3.68678802e+00 -3.14932540e-01 -8.72965308e-01 -1.42826334e-01\n",
            "  2.39050312e-01 -1.47166681e-02 -1.38652084e-02  5.01266129e-04\n",
            "  2.93248200e-04 -4.67274794e-06 -2.05508365e-06]\n",
            " \n",
            "Error_training =  76.87650158373717\n",
            "Error_Test =  157.83042117543494\n",
            " \n",
            "GRAPH FOR 10TH DEGREE\n"
          ]
        },
        {
          "output_type": "display_data",
          "data": {
            "text/plain": [
              "<Figure size 432x288 with 1 Axes>"
            ],
            "image/png": "[encoded data removed]"
          },
          "metadata": {
            "needs_background": "light"
          }
        }
      ]
    },
    {
      "cell_type": "markdown",
      "source": [
        "## Problem 1.2 (10 points)\n",
        "Please compare the three results and explain which degree you can use."
      ],
      "metadata": {
        "id": "TQ4PwAJPIu6l"
      }
    },
    {
      "cell_type": "code",
      "source": [
        "'''\n",
        "OVERFITTING\n",
        "\n",
        "When we have low training error and high test error. In this case, why having low\n",
        "training error is bad, because basically the data starts fit all the points dynamically\n",
        "even the noise, hence having high variance, which can been seen in 10th degree polynomial\n",
        "with train error = 76.87 and high test error = 157.83 showing that the weights calculated\n",
        "were highly fitted to the ones on train data and could perform well when tested with \n",
        "test data.\n",
        "\n",
        "In case of 3rd and 4th, 4th had better training data than 3rd, but when come to compare about\n",
        "the test error = 3rd performed well than 4th and rest of the degree including 2nd, 4th and 10th.\n",
        "\n",
        "[here \">\" indicates \"better\" not \"more than\"]\n",
        "\n",
        "4th train error > 3rd train error \n",
        "84.8 > 87.58 [leading to slightly overfit than the 3rd degree case]\n",
        "\n",
        "3rd test error >  4th test error\n",
        "122.18 > 128.56 \n",
        "\n",
        "\n",
        "UNDERFITTING:\n",
        "\n",
        "When we have High training error and high test error, then we can say that the \n",
        "weights didn't fit the model well, or the data was underfitted as seen in the\n",
        "case of 2nd Degree polynomial where the  train error = 256.21, and test error = 231.94.\n",
        "An underfit model has low variance and high bias which means it makes strong assumption\n",
        "about the data.\n",
        "\n",
        "CONCLUSION\n",
        "1. 3RD DEGREE POLYNOMIAL BEST FIT THE DATA. (OVERFITTING BUT PERFORMS BETTER THAN THE REST)\n",
        "2. 4TH DEGREE POLYNOMIAL (SLIGHT LESS OVERFITTING THAN 3RD)\n",
        "3. 10TH DEGREE POLYNOMIAL (OVERFITTING)\n",
        "4. 2ND DEGREE POLYNOMIAL (UNDERFITTING)\n",
        "'''\n",
        "\n",
        "import seaborn as sns\n",
        "import pandas as pd\n",
        "import matplotlib.pyplot as plt\n",
        "df = pd.DataFrame({ 'TRAIN ERROR': [256.21,87.58,84.80,76.87],'TEST ERROR':[231.94,122.183,128.56,157.83],'DEGREE':['2','3','4','10']})\n",
        "import matplotlib.pyplot as plt\n",
        "import seaborn as sns\n",
        "\n",
        "#set seaborn plotting aesthetics\n",
        "sns.set(style='white')\n",
        "\n",
        "#create grouped bar chart\n",
        "print(sns.barplot(x='DEGREE', y='TRAIN ERROR',data=df))\n",
        "\n"
      ],
      "metadata": {
        "colab": {
          "base_uri": "https://localhost:8080/",
          "height": 302
        },
        "id": "P1frzL-KNEHz",
        "outputId": "76b60408-4f46-4f39-e8c9-c3289b6bd7a4"
      },
      "execution_count": null,
      "outputs": [
        {
          "output_type": "stream",
          "name": "stdout",
          "text": [
            "AxesSubplot(0.125,0.125;0.775x0.755)\n"
          ]
        },
        {
          "output_type": "display_data",
          "data": {
            "text/plain": [
              "<Figure size 432x288 with 1 Axes>"
            ],
            "image/png": "[encoded data removed]"
          },
          "metadata": {}
        }
      ]
    },
    {
      "cell_type": "code",
      "source": [
        "print(sns.barplot(x='DEGREE', y='TEST ERROR',data=df))"
      ],
      "metadata": {
        "colab": {
          "base_uri": "https://localhost:8080/",
          "height": 302
        },
        "id": "jcuZc0Cl6hb7",
        "outputId": "2a67030d-e770-4e62-dbae-e4917ff98143"
      },
      "execution_count": null,
      "outputs": [
        {
          "output_type": "stream",
          "name": "stdout",
          "text": [
            "AxesSubplot(0.125,0.125;0.775x0.755)\n"
          ]
        },
        {
          "output_type": "display_data",
          "data": {
            "text/plain": [
              "<Figure size 432x288 with 1 Axes>"
            ],
            "image/png": "[encoded data removed]"
          },
          "metadata": {}
        }
      ]
    },
    {
      "cell_type": "markdown",
      "source": [
        "# Problem 2 (10 points)\n",
        "\n",
        "Please watch the lecture by Prof. Mercado, https://www.youtube.com/watch?v=_q2p6-4e3E8.\n",
        "\n",
        "You will be responsible for the material covered in this lecture.\n",
        "You should state that you watched the entire lecture to receive 10 points."
      ],
      "metadata": {
        "id": "z8ZpXwEAqa2U"
      }
    },
    {
      "cell_type": "code",
      "source": [
        "# I have watched the entire lecture"
      ],
      "metadata": {
        "id": "-VUV3HcjE5b9"
      },
      "execution_count": null,
      "outputs": []
    }
  ]
}