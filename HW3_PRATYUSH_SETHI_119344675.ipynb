{
  "nbformat": 4,
  "nbformat_minor": 0,
  "metadata": {
    "colab": {
      "provenance": [],
      "include_colab_link": true
    },
    "kernelspec": {
      "name": "python3",
      "display_name": "Python 3"
    },
    "language_info": {
      "name": "python"
    }
  },
  "cells": [
    {
      "cell_type": "markdown",
      "metadata": {
        "id": "view-in-github",
        "colab_type": "text"
      },
      "source": [
        "<a href=\"https://colab.research.google.com/github/patty-13/MSML-603-UMD-MACHINE-LEARNING/blob/main/HW3_PRATYUSH_SETHI_119344675.ipynb\" target=\"_parent\"><img src=\"https://colab.research.google.com/assets/colab-badge.svg\" alt=\"Open In Colab\"/></a>"
      ]
    },
    {
      "cell_type": "markdown",
      "source": [
        "# HW 3 updated with additional explanation. Also some typos are fixed"
      ],
      "metadata": {
        "id": "1y4h9di_5ppz"
      }
    },
    {
      "cell_type": "markdown",
      "source": [
        "# Section 1"
      ],
      "metadata": {
        "id": "rmrIVK7Gm86K"
      }
    },
    {
      "cell_type": "markdown",
      "source": [
        "In the following we are aiming to find the decision boundary for classifying the random variable $X$ that is generated based on the rules given in the following:\n",
        "\n",
        "The support for $\\Gamma $ is the set $\\{ 1, 2 \\}$\n",
        "\n",
        "$$\n",
        "P(\\Gamma = 1) =p_1\\\\\n",
        "P(\\Gamma = 2) =p_2\n",
        "$$\n",
        "\n",
        "$$\n",
        "p(X | \\Gamma =i) = \\frac{1}{\\sqrt{(2 \\pi )^2 \\det(\\Sigma_i)} }\n",
        "e^{-\\frac{(X-{\\mu_X}_i)^T\\Sigma_i^{-1}(X-{\\mu_X}_i)}{2}}\n",
        "$$\n",
        "where \n",
        "$$\n",
        "X = \n",
        "  \\begin{bmatrix} x_1 \\\\x_2 \n",
        "  \\end{bmatrix}\n",
        "$$\n",
        "and\n",
        "$$\n",
        "\\begin{align}\n",
        "\\mu_{X_{i}} & = E_{X | \\Gamma =i }[X] \\\\\n",
        "            & = \\begin{bmatrix}\n",
        "                E_{X | \\Gamma =i } [x_1] \\\\\n",
        "                E_{X |= \\Gamma = i } [x_2] \n",
        "              \\end{bmatrix}\\\\\n",
        "            & = \\begin{bmatrix}\n",
        "                \\mu_{x_{1,i}} \\\\\n",
        "                \\mu_{x_{2,i}} \n",
        "              \\end{bmatrix}\n",
        "\\end{align}\n",
        "$$\n",
        "\n",
        "and since ***for this HW*** we consider only diagonal covariance matrix (hence independent $x_1$ and $x_2$ are independent)\n",
        "\n",
        "$$\n",
        "\\begin{align}\n",
        "\\Sigma_i &= E_{X|\\Gamma = i}[(X-{\\mu_X}_i)(X-{\\mu_X}_i)^T] \\\\\n",
        "         & = \\begin{bmatrix}\n",
        "              E_{X|\\Gamma = i} (x_{1} -\\mu_{x_{1,i}})^2  & \n",
        "              E_{X|\\Gamma = i} (x_{1} -\\mu_{x_{1,i}})(x_{2} -\\mu_{x_{2,i}})  \\\\\n",
        "              E_{X|\\Gamma = i} (x_{1} -\\mu_{x_{1,i}})(x_{2} -\\mu_{x_{2,i}}) & \n",
        "              E_{X|\\Gamma = i} (x_{1} -\\mu_{x_{1,i}})^2\n",
        "             \\end{bmatrix} \\\\\n",
        "        & = \\begin{bmatrix}\n",
        "              \\sigma_{11,i}^2  & \n",
        "              0  \\\\\n",
        "              0 & \n",
        "              \\sigma_{22,i}^2\n",
        "             \\end{bmatrix} \n",
        "\\end{align}\n",
        "$$\n",
        "\n",
        "\n",
        "\n",
        "As we discussed in the class if $p_1=p_2=1/2$ then the classification/estimation becomes a maximum likelihood estimation. In other word we have the follwoing\n",
        "\n",
        "$$\n",
        "P(x|\\Gamma = 1) \\underset{\\Gamma =2}{\\overset{\\Gamma = 1}{\\gtrless}} P(x|\\Gamma = 2)\n",
        "$$\n",
        "\n",
        "If we use MAP estimate then we  we have\n",
        "\n",
        "$$\n",
        "P(\\Gamma = 1 |x) \\underset{\\Gamma =2}{\\overset{\\Gamma = 1}{\\gtrless}} P(\\Gamma = 2 |x)\n",
        "$$\n",
        "or equivalently\n",
        "$$\n",
        "P(\\Gamma = 1)P(x|\\Gamma = 1) \\underset{\\Gamma =2}{\\overset{\\Gamma = 1}{\\gtrless}} P(x|\\Gamma = 2) P(\\Gamma =2)\n",
        "$$"
      ],
      "metadata": {
        "id": "iccg1gc-LIUF"
      }
    },
    {
      "cell_type": "markdown",
      "source": [
        "# This is an extra comment that was not included in the original HW. This is to help you to understand the code a little better.\n",
        "\n",
        "**Since we are only comparing conditional pdfs** we can easily use any increasing function and apply that to the pdf and compare the results. Specifically we want to use the function $\\ln(\\cdot)$. So We are going to have the following:\n",
        "\n",
        "The decision policy that is written as \n",
        "$$\n",
        "P(x|\\Gamma = 1) \\underset{\\Gamma =2}{\\overset{\\Gamma = 1}{\\gtrless}} P(x|\\Gamma = 2)\n",
        "$$\n",
        "\n",
        "can be replaced by \n",
        "\n",
        "$$\n",
        "\\ln (P(x|\\Gamma = 1)) \\underset{\\Gamma =2}{\\overset{\\Gamma = 1}{\\gtrless}} \\ln(P(x|\\Gamma = 2)) \n",
        "$$\n",
        "Therefore, instead of using the Gaussian pdf,\n",
        "\n",
        "$$\n",
        "p(X | \\Gamma =i) = \\frac{1}{\\sqrt{(2 \\pi )^2 \\det(\\Sigma_i)} }\n",
        "e^{-\\frac{(X-{\\mu_X}_i)^T\\Sigma_i^{-1}(X-{\\mu_X}_i)}{2}}\n",
        "$$\n",
        "\n",
        "we can use its logarithm which is \n",
        "\n",
        "\n",
        "$$\n",
        "\\ln \\left( p(X | \\Gamma =i) \\right) = -\\ln(2\\pi) -1/2 \\ln(\\det(\\Sigma_i)) \n",
        "-\\frac{(X-{\\mu_X}_i)^T\\Sigma_i^{-1}(X-{\\mu_X}_i)}{2}\n",
        "$$\n"
      ],
      "metadata": {
        "id": "8ptF3r30BZIv"
      }
    },
    {
      "cell_type": "markdown",
      "source": [
        "### comment \n",
        "In the following program, most of the code is written for you, you just need to understand and use it. Look at the decision boundary. Does it make sense? Play with different values to get a sense of the estimator. \n",
        "\n",
        "we have the follwoing options\n",
        "\n",
        "\n",
        "*   $p_1=p_2=1/2$\n",
        "*   $p_1 \\neq p_2$\n",
        "*   $\\Sigma_1 = \\Sigma_2$\n",
        "*   $\\Sigma_1 \\neq \\Sigma_2$\n",
        "\n",
        "*   Deterministic $\\mu_X$\n",
        "*   Probabilistic $\\mu_X$\n",
        "\n",
        "In all examples we use $\\Sigma$ to be diagonal (independent random variables). \n",
        "\n"
      ],
      "metadata": {
        "id": "lhouUH6CLTMY"
      }
    },
    {
      "cell_type": "markdown",
      "source": [
        "#New Explanation\n",
        "There has been some questions regarding the logic of the code below. I specifically discuss the logic behind the following code. (**please note that I changed the code a little so that this explanation is consistent with the formulas that are given above.**)\n",
        "\n",
        "aaa = - np.log(2*np.pi) - 1/2*np.log(np.square(np.square(Sigma[n])))\n",
        "      \n",
        "metric = aaa - 1/np.square(Sigma[n])*(np.square(x[i] - Mu_x[n]) + np.square(y[j]-Mu_y[n]))/2\n",
        "\n",
        "As we described above the covariance matrix $\\Sigma_i$ that we consider in this program for simplicity is assumed to be diagonal. Additionally we assume that the matrix has the following form:\n",
        "\n",
        "$$\n",
        "\\begin{align}\n",
        "\\Sigma_i &=  \\begin{bmatrix}\n",
        "              \\sigma_{i}^2  & \n",
        "              0  \\\\\n",
        "              0 & \n",
        "              \\sigma_{i}^2\n",
        "             \\end{bmatrix} \n",
        "\\end{align}\n",
        "$$\n",
        "\n",
        "We know that deteminant of this matrix can be written as\n",
        "\n",
        "$$\n",
        "\\det(\\Sigma_i) = \\sigma_i^2*\\sigma_i^2 - 0*0 = \\sigma_i^4\n",
        "$$\n",
        "\n",
        "Therefor the if we take the logarithm of the pdf then we have\n",
        "\n",
        "$$\n",
        "\\begin{align}\n",
        "\\ln \\left( p(X | \\Gamma =i) \\right) &= -\\ln(2\\pi) -1/2 \\ln(\\det(\\Sigma_i) )\n",
        "-\\frac{(X-{\\mu_X}_i)^T\\Sigma_i^{-1}(X-{\\mu_X}_i)}{2} \\\\\n",
        "& = -\\ln(2\\pi) - 1/2 \\ln(\\sigma_i^4) - 1/2 * \\left ( \n",
        "  \\frac{(x_1-\\mu_{x_{1,i}})^2}{\\sigma_i^2} + \n",
        "  \\frac{(x_2-\\mu_{x_{2,i}})^2}{\\sigma_i^2}\n",
        "  \\right ) \\\\\n",
        "  &= -\\ln(2\\pi) - 1/2 \\ln(\\sigma_i^4) - 1/2 * \\left ( \n",
        "  \\frac{(x_1-\\mu_{x_{1,i}})^2 + \n",
        "  (x_2-\\mu_{x_{2,i}})^2}{\\sigma_i^2}\n",
        "  \\right )\n",
        "\\end{align}\n",
        "$$\n",
        "\n",
        "you should remeber that when we use **np.random.normal(mean,sigma,N)**, sigma ($\\sigma_i$)is standard deviation. \n"
      ],
      "metadata": {
        "id": "eNJGppM2Biju"
      }
    },
    {
      "cell_type": "markdown",
      "source": [
        "### Explanation\n",
        "\n",
        "In this HW we aim to calculate the probability of error for maximum likelihood and MAP estimator.\n",
        "\n",
        "First Let us prepare a code for your HW"
      ],
      "metadata": {
        "id": "MHLG5Y4wmkDE"
      }
    },
    {
      "cell_type": "code",
      "execution_count": null,
      "metadata": {
        "colab": {
          "base_uri": "https://localhost:8080/",
          "height": 265
        },
        "id": "T9bix1Fd1rqj",
        "outputId": "077e50c4-bc5c-4289-984c-d80ba3a0b0ac"
      },
      "outputs": [
        {
          "output_type": "display_data",
          "data": {
            "text/plain": [
              "<Figure size 432x288 with 1 Axes>"
            ],
            "image/png": "[encoded data removed]"
          },
          "metadata": {
            "needs_background": "light"
          }
        }
      ],
      "source": [
        "\n",
        "import numpy as np\n",
        "import matplotlib.pyplot as plt\n",
        "N = 2 # number of individual 2D Gaussian Distribution\n",
        "dist_with_similar_variance = 1 # if euqal to 1 all distributon have varinace 1\n",
        "                               # otherwise the varinace is chosen randomly\n",
        "dist_with_random_mean = 0\n",
        "\n",
        "if dist_with_random_mean:\n",
        "  mu_X_boundary = 20.                # +/- defines the area for the x/y component of \n",
        "  mu_Y_boundary = 20.                # mean of the distribution\n",
        "  Mu_x = np.random.uniform(-mu_X_boundary, mu_X_boundary, N)\n",
        "  Mu_y = np.random.uniform(-mu_Y_boundary , mu_Y_boundary, N)\n",
        "  #Mu= np.vstack((Mu_x, Mu_y))\n",
        "else:\n",
        "  Mu_x = np.array([-10, -10])\n",
        "  Mu_y = np.array([ 10, -10])\n",
        "\n",
        "# First we use the covariance matrix will be diagonal\n",
        "# diagonal elements (this make the two Rnadom varianble\n",
        "# in 2D vector independent)\n",
        "\n",
        "if dist_with_similar_variance:\n",
        "  sigma = 1.0\n",
        "  Sigma = np.ones(N)*sigma\n",
        "else:\n",
        "  Sigma = np.array([6.8,6.8])\n",
        "#define the area with number of grid points\n",
        "N_grid = 1000\n",
        "\n",
        "X_boundary = 50.\n",
        "Y_boundary = 50.\n",
        "x = np.linspace(-X_boundary,X_boundary,N_grid)\n",
        "y = np.linspace(-Y_boundary,Y_boundary,N_grid)\n",
        "h=np.zeros([len(x), len(y)])\n",
        "for i in np.arange(len(x)):\n",
        "  for j in np.arange(len(y)):\n",
        "    temp  = 0\n",
        "    max = -1e20\n",
        "    for n in np.arange(N):\n",
        "      aaa = - np.log(2*np.pi) - 1/2*np.log(np.square(np.square(Sigma[n])))\n",
        "      metric = aaa - 1/np.square(Sigma[n])*(np.square(x[i] - Mu_x[n]) + np.square(y[j]-Mu_y[n]))/2\n",
        "      if metric > max:\n",
        "        max = metric\n",
        "        h[j,i] = n+1\n",
        "\n",
        "cs = plt.contourf(x, y,h)"
      ]
    },
    {
      "cell_type": "markdown",
      "source": [
        "###That was awful\n",
        "Although you are not graded for  the quality of the code you write, your solution becomes very slow. You get the HW right but you don't get the speed you need. \n",
        "###However, for your job interview, you might want to learn writing faster codes.\n"
      ],
      "metadata": {
        "id": "xw4CgZnIo_z7"
      }
    },
    {
      "cell_type": "markdown",
      "source": [
        "### Explanation\n",
        "Fron now on I try to avoid for loops as much as I can. \n",
        "### I am not a good programmer so you should (not for HW but for your future job interviews) try to do better or at least understand the code I write\n",
        "\n",
        "Please remeber the code quality is not part of your HW and only the results are used for the garde."
      ],
      "metadata": {
        "id": "wuBcLY_BqIc_"
      }
    },
    {
      "cell_type": "markdown",
      "source": [
        "### Explanation \n",
        "Now we swicth to a more efficient code"
      ],
      "metadata": {
        "id": "TBO_pUpts32s"
      }
    },
    {
      "cell_type": "code",
      "source": [
        "import numpy as np\n",
        "import matplotlib.pyplot as plt\n",
        "N = 2 # number of individual 2D Gaussian Distribution\n",
        "dist_with_similar_variance = 0 # if euqal to 1 all distributon have varinace 1\n",
        "                               # otherwise the varinace is chosen randomly\n",
        "dist_with_random_mean = 0\n",
        "\n",
        "equi_probable = 1\n",
        "\n",
        "if equi_probable:\n",
        "  prob = np.ones(N) *1/N\n",
        "else:\n",
        "  prob = np.array([0.999, 0.001])\n",
        "\n",
        "\n",
        "if dist_with_random_mean:\n",
        "  mu_X_boundary = 20.                # +/- defines the area for the x/y component of \n",
        "  mu_Y_boundary = 20.                # mean of the distribution\n",
        "  Mu_x = np.random.uniform(-mu_X_boundary, mu_X_boundary, N)\n",
        "  Mu_y = np.random.uniform(-mu_Y_boundary , mu_Y_boundary, N)\n",
        "  #Mu= np.vstack((Mu_x, Mu_y))\n",
        "else:\n",
        "  Mu_x = np.array([-10, 10])\n",
        "  Mu_y = np.array([ 10, -10])\n",
        "\n",
        "# First we use the covariance matrix will be diagonal\n",
        "# diagonal elements (this make the two Rnadom varianble\n",
        "# in 2D vector independent)\n",
        "\n",
        "if dist_with_similar_variance:\n",
        "  sigma = 10\n",
        "  Sigma = np.ones(N)*sigma\n",
        "else:\n",
        "  Sigma = np.array([6.,6.8])\n",
        "#define the area with number of grid points\n",
        "N_grid = 1000\n",
        "\n",
        "X_boundary = 50.\n",
        "Y_boundary = 50.\n",
        "\n",
        "resolution = .1\n",
        "x_min, x_max = -X_boundary, X_boundary\n",
        "y_min, y_max = -Y_boundary, Y_boundary\n",
        "xx, yy = np.meshgrid(np.arange(x_min, x_max, resolution),\n",
        "                         np.arange(y_min, y_max, resolution))\n",
        "h = 0*xx\n",
        "\n",
        "max = np.ones(xx.shape)* (-1e20)\n",
        "# for defining the regions.\n",
        "for n in np.arange(N):\n",
        "      metric = np.log(prob[n]) -  np.log(2*np.pi) -1/2*np.log(np.square(np.square(Sigma[n]))) - 1/np.square(Sigma[n]) \\\n",
        "      *(np.square(xx - Mu_x[n]) + np.square(yy-Mu_y[n]))/2\n",
        "      h  = h* ((metric<max) *1.) + ((metric >= max) *1.) *(n+1)  \n",
        "      max = max * ((metric<max)*1.) + ((metric >= max)*1.) *metric\n",
        "plt.contourf(xx[0,:],yy[:,0],h)\n"
      ],
      "metadata": {
        "colab": {
          "base_uri": "https://localhost:8080/",
          "height": 282
        },
        "id": "OvhrLzzdDd2v",
        "outputId": "f9c35ae6-1099-4a0d-c940-d583ed6f1ca8"
      },
      "execution_count": null,
      "outputs": [
        {
          "output_type": "execute_result",
          "data": {
            "text/plain": [
              "<matplotlib.contour.QuadContourSet at 0x7fab20334650>"
            ]
          },
          "metadata": {},
          "execution_count": 4
        },
        {
          "output_type": "display_data",
          "data": {
            "text/plain": [
              "<Figure size 432x288 with 1 Axes>"
            ],
            "image/png": "[encoded data removed]"
          },
          "metadata": {
            "needs_background": "light"
          }
        }
      ]
    },
    {
      "cell_type": "markdown",
      "source": [
        "### Comment\n",
        "\n",
        "Here we plot some samples of the randmom variables on the area where the decision boundaries are plotted. Please convince yourself that this makes sense."
      ],
      "metadata": {
        "id": "yKJAdd6wed1G"
      }
    },
    {
      "cell_type": "code",
      "source": [
        "resolution = .1\n",
        "x_min, x_max = -X_boundary , X_boundary \n",
        "y_min, y_max = -Y_boundary , Y_boundary \n",
        "xx, yy = np.meshgrid(np.arange(x_min, x_max, resolution),\n",
        "                         np.arange(y_min, y_max, resolution))\n",
        "h = 0*xx\n",
        "\n",
        "max = np.ones(xx.shape)* (-1e20)\n",
        "\n",
        "for n in np.arange(N):\n",
        "      metric = np.log(prob[n]) - 1/2* np.log(2*np.pi*np.square(np.square(Sigma[n]))) - 1/np.square(Sigma[n]) \\\n",
        "      *(np.square(xx - Mu_x[n]) + np.square(yy-Mu_y[n]))/2\n",
        "      h  = h* ((metric<max) *1.) + ((metric >= max) *1.) *(n+1)  \n",
        "      max = max * ((metric<max)*1.) + ((metric >= max)*1.) *metric\n",
        "plt.contourf(xx[0,:],yy[:,0],h[:, :])\n",
        "color = 'r' + 'g' \n",
        "\n",
        "# This is for plotting the points\n",
        "for n in np.arange(N):\n",
        "  # here we are going to cheat and deterministcally generate proportional \n",
        "  # number of random variables.\n",
        "  # this is proportional to the probability of each category\n",
        "  MM = int(np.round(prob[n]*10000))\n",
        "  x = np.random.normal(np.array([Mu_x[n],Mu_y[n]]), Sigma[n], (MM,2))\n",
        "\n",
        "  plt.scatter(\n",
        "    x[:, 0],\n",
        "    x[:, 1],\n",
        "    s=20,\n",
        "    linewidth=1,\n",
        "    facecolors=color[n],\n",
        "    edgecolors=\"none\",\n",
        "    ) \n"
      ],
      "metadata": {
        "colab": {
          "base_uri": "https://localhost:8080/",
          "height": 265
        },
        "id": "A5GPC8F7Uh5W",
        "outputId": "0eb7ca58-a999-48fd-9238-06af63a10022"
      },
      "execution_count": null,
      "outputs": [
        {
          "output_type": "display_data",
          "data": {
            "text/plain": [
              "<Figure size 432x288 with 1 Axes>"
            ],
            "image/png": "[encoded data removed]"
          },
          "metadata": {
            "needs_background": "light"
          }
        }
      ]
    },
    {
      "cell_type": "markdown",
      "source": [
        "# Problem 1 (11 points)\n",
        "Without changing the parameters of the above program calculate the probability of error. In other words:\n",
        "\n",
        "\n",
        "\n",
        "*    $ {\\mu_X}_1 = \n",
        "  \\begin{bmatrix} -10 \\\\10 \n",
        "  \\end{bmatrix}\n",
        "$  and $ {\\mu_X}_2 = \n",
        "  \\begin{bmatrix} 10 \\\\-10 \n",
        "  \\end{bmatrix}\n",
        "$ \n",
        "\n",
        "* $\n",
        "\\Sigma_1 =  \\Sigma_2  = \\begin{bmatrix}\n",
        "    10^2 & 0  \\\\ \n",
        "    0 & 10^2 \n",
        " \\end{bmatrix}\n",
        "$\n",
        "\n",
        "\n",
        "*   $P(\\Gamma = 1)= P(\\Gamma = 2) =1/2$.\n",
        "\n",
        "\n",
        "The decision boundary is set by the formulas that are given in the body of this problem and discussed in the class. \n",
        "\n",
        "Remember:\n",
        "\n",
        "$$\n",
        "Prob(error) = \\sum_{i=1}^2 p(error | \\Gamma =i) P(\\Gamma = i)\n",
        "$$\n",
        "\n",
        "## Hint\n",
        "\n",
        "You can use the program similar to the one that plots the sample points to count the number of ponts that fall in the proper region and the ones that fall in the wrong region and then use the proportion to calculate the probability of error."
      ],
      "metadata": {
        "id": "8NW7Sjf25tJs"
      }
    },
    {
      "cell_type": "code",
      "source": [
        "# SOLUTION 1\n",
        "\n",
        "import numpy as np\n",
        "import matplotlib.pyplot as plt\n",
        "N = 2 # number of individual 2D Gaussian Distribution\n",
        "dist_with_similar_variance = 0 # if euqal to 1 all distributon have varinace 1\n",
        "                               # otherwise the varinace is chosen randomly\n",
        "dist_with_random_mean = 0\n",
        "\n",
        "equi_probable = 1 # KEEPING IT 1 FOR EQUAL PROBABILITY OF (0.5) P(Γ=1)=P(Γ=2)=1/2.\n",
        "\n",
        "if equi_probable:\n",
        "  prob = np.ones(N) *1/N\n",
        "else:\n",
        "  prob = np.array([0.999, 0.001])\n",
        "\n",
        "\n",
        "if dist_with_random_mean:\n",
        "  mu_X_boundary = 20.                # +/- defines the area for the x/y component of \n",
        "  mu_Y_boundary = 20.                # mean of the distribution\n",
        "  Mu_x = np.random.uniform(-mu_X_boundary, mu_X_boundary, N)\n",
        "  Mu_y = np.random.uniform(-mu_Y_boundary , mu_Y_boundary, N)\n",
        "  #Mu= np.vstack((Mu_x, Mu_y))\n",
        "else:\n",
        "  Mu_x = np.array([-10, 10])\n",
        "  Mu_y = np.array([ 10, -10])\n",
        "\n",
        "# First we use the covariance matrix will be diagonal\n",
        "# diagonal elements (this make the two Rnadom varianble\n",
        "# in 2D vector independent)\n",
        "\n",
        "if dist_with_similar_variance:\n",
        "  sigma = 10\n",
        "  Sigma = np.ones(N)*sigma\n",
        "else:\n",
        "  Sigma = np.array([10,10]) # CHANGING THE VARIANCE TO [10,10] AS PER THE QUESTION\n",
        "#define the area with number of grid points\n",
        "N_grid = 1000\n",
        "\n",
        "X_boundary = 50.\n",
        "Y_boundary = 50.\n",
        "\n",
        "\n",
        "resolution = .1\n",
        "x_min, x_max = -X_boundary , X_boundary \n",
        "y_min, y_max = -Y_boundary , Y_boundary \n",
        "xx, yy = np.meshgrid(np.arange(x_min, x_max, resolution),\n",
        "                         np.arange(y_min, y_max, resolution))\n",
        "h = 0*xx\n",
        "\n",
        "\n",
        "max = np.ones(xx.shape)* (-1e20)\n",
        "\n",
        "for n in np.arange(N):\n",
        "      metric = np.log(prob[n]) - 1/2* np.log(2*np.pi*np.square(np.square(Sigma[n]))) - 1/np.square(Sigma[n]) \\\n",
        "      *(np.square(xx - Mu_x[n]) + np.square(yy-Mu_y[n]))/2\n",
        "      h  = h* ((metric<max) *1.) + ((metric >= max) *1.) *(n+1)  \n",
        "      max = max * ((metric<max)*1.) + ((metric >= max)*1.) *metric\n",
        "plt.contourf(xx[0,:],yy[:,0],h[:, :])\n",
        "color = 'r' + 'g' \n",
        "\n",
        "li_green = []\n",
        "li_red = []\n",
        "\n",
        "# This is for plotting the points\n",
        "for n in np.arange(N):\n",
        "  # here we are going to cheat and deterministcally generate proportional \n",
        "  # number of random variables.\n",
        "  # this is proportional to the probability of each category\n",
        "  MM = int(np.round(prob[n]*10000))\n",
        "  x = np.random.normal(np.array([Mu_x[n],Mu_y[n]]), Sigma[n], (MM,2))\n",
        "  if n:\n",
        "    li_green = x\n",
        "  else:\n",
        "    li_red = x\n",
        "  plt.scatter(\n",
        "    x[:, 0],\n",
        "    x[:, 1],\n",
        "    s=20,\n",
        "    linewidth=1,\n",
        "    facecolors=color[n],\n",
        "    edgecolors=\"none\",\n",
        "    ) \n",
        "\n",
        "\n",
        "# --------------- MY SOLUTION STARTS HERE -------------------------------------------\n",
        "'''\n",
        "The random generated points above are first created for W1 and then for W2, so to identify \n",
        "where the point lies, we have to take out the conditional probability with the formula given above.\n",
        "ln(p(X|Γ=i)) = =−ln(2π)−1/2ln(σ4i)−1/2∗((x1−μx1,i)2+(x2−μx2,i)2σ2i), in this way we will be able to\n",
        "calculate the probability of the point, and as it is first generated for red point, if the probability \n",
        "of point is greater than that for probability conditions used to measure green points with the same points,\n",
        "then it lies in the same region else is an outlier.\n",
        "'''\n",
        "\n",
        "#Comparing the probability P(W1 | X) > P(W2 | X ) for W1 assuming x lies in purple region, else its an error.\n",
        "\n",
        "prob_r = np.log(prob[0])  -1/2* np.log(2*np.pi*np.square(np.square(Sigma[0]))) - 1/np.square(Sigma[0]) \\\n",
        "        *(np.square(li_red[:,0] - Mu_x[0]) + np.square(li_red[:,1] - Mu_y[0]))/2\n",
        "\n",
        "prob_rg =  np.log(prob[1]) -1/2* np.log(2*np.pi*np.square(np.square(Sigma[1]))) - 1/np.square(Sigma[1]) \\\n",
        "        *(np.square(li_red[:,0] - Mu_x[1]) + np.square(li_red[:,1] - Mu_y[1]))/2\n",
        "\n",
        "# Comparing the probability P(W1 | X) < P(W2 | X ) for W2 assuming x lies in purple region, else its an error.\n",
        "\n",
        "prob_g = np.log(prob[0])  -1/2* np.log(2*np.pi*np.square(np.square(Sigma[0]))) - 1/np.square(Sigma[0]) \\\n",
        "        *(np.square(li_green[:,0] - Mu_x[0]) + np.square(li_green[:,1] - Mu_y[0]))/2\n",
        "\n",
        "prob_gr =  np.log(prob[1]) -1/2* np.log(2*np.pi*np.square(np.square(Sigma[1]))) - 1/np.square(Sigma[1]) \\\n",
        "        *(np.square(li_green[:,0] - Mu_x[1]) + np.square(li_green[:,1] - Mu_y[1]))/2\n"
      ],
      "metadata": {
        "colab": {
          "base_uri": "https://localhost:8080/",
          "height": 265
        },
        "id": "TZYXjdS23dNz",
        "outputId": "e7247e96-b592-47b8-cf1d-207a4efea1ce"
      },
      "execution_count": null,
      "outputs": [
        {
          "output_type": "display_data",
          "data": {
            "text/plain": [
              "<Figure size 432x288 with 1 Axes>"
            ],
            "image/png": "[encoded data removed]"
          },
          "metadata": {
            "needs_background": "light"
          }
        }
      ]
    },
    {
      "cell_type": "code",
      "source": [
        "# counting error points\n",
        "red_error = 0\n",
        "green_error = 0 \n",
        "p = []\n",
        "p1 = []\n",
        "error_r = []\n",
        "error_g = []\n",
        "for i in range(len(prob_r)):\n",
        "  if(prob_r[i] < prob_rg[i]):\n",
        "  #if(h_r[i] < h_rg[i]):\n",
        "    p.append(li_red[i])\n",
        "    red_error +=1\n",
        "    error_r.append(prob_rg[i])\n",
        "\n",
        "for i in range(len(prob_g)):\n",
        "  if(prob_g[i] > prob_gr[i]):\n",
        "  #if(h_g[i] > h_gr[i]):\n",
        "    p1.append(li_green[i])\n",
        "    green_error +=1\n",
        "    error_g.append(prob_gr[i])\n",
        "\n",
        "print(\"red error points:\",p)\n",
        "print(\"green error point:\",p1)\n",
        "print(\"red error count:\",red_error)\n",
        "print(\"green error count:\",green_error)"
      ],
      "metadata": {
        "colab": {
          "base_uri": "https://localhost:8080/"
        },
        "id": "H-4pGU5VDM_Z",
        "outputId": "91dd2629-f700-4250-80d7-98eb8122260b"
      },
      "execution_count": null,
      "outputs": [
        {
          "output_type": "stream",
          "name": "stdout",
          "text": [
            "red error points: [array([ 2.82597996, -1.59181821]), array([-9.01022314, -9.32492194]), array([-1.71625702, -5.36824708]), array([18.42619017,  6.60435904]), array([ -8.12556636, -10.24268973]), array([15.36980775, 11.36017764]), array([13.15520353,  3.91801192]), array([-1.75434397, -2.1447607 ]), array([-2.7163424 , -5.41150775]), array([ -3.38308912, -17.92605328]), array([-3.28307582, -3.77731819]), array([ 1.73041872, -2.81783815]), array([ 1.43385467, -3.61712068]), array([ 4.96769631, -3.27211124]), array([8.19001241, 7.72291284]), array([ -4.70654535, -10.60422656]), array([ -0.17677035, -14.00331363]), array([10.84793733, -1.80445972]), array([18.67094192,  9.55900909]), array([ 6.04380677, -0.12866021]), array([ 1.95114094, -2.42944781]), array([2.38200517, 0.63695414]), array([ 4.26971594, -1.17057681]), array([9.94942932, 4.09565207]), array([-0.47058244, -5.20470101]), array([7.34795344, 4.98871882]), array([-3.84587633, -7.47123094]), array([-3.80317351, -5.99900829]), array([16.98521769,  6.02422102]), array([ 4.94974887, -8.13638237]), array([-13.64736632, -22.29440301]), array([ 11.9073039 , -14.23408999]), array([ 3.12261915, -3.69437155]), array([-3.83933479, -9.6671082 ]), array([-10.18601965, -13.38167515]), array([ 5.86643585, -5.05228412]), array([7.97572901, 1.68048889]), array([ 1.40932411, -5.47114326]), array([17.42219972, 10.59351323]), array([ 1.69259278, -2.45745304]), array([9.03976488, 2.62026834]), array([5.09895381, 4.73736304]), array([2.27173762e+00, 1.68854296e-03]), array([ -0.90721072, -17.53033395]), array([7.51600276, 3.54321758]), array([-2.57011656, -6.44074491]), array([ 9.9325059 , -2.30667117]), array([13.53840303, -0.28003111]), array([-2.07816997, -5.45714931]), array([1.90639538, 1.81692861]), array([ 6.66119443, -6.59829258]), array([ 5.39191403, -4.7374126 ]), array([ 0.78744157, -5.77565131]), array([-15.43125598, -16.49219989]), array([6.83057306, 5.02901663]), array([ -2.48502821, -13.68723314]), array([11.14836515, -4.59968573]), array([-1.68904628, -4.9326661 ]), array([-5.26049755, -9.63341506]), array([-6.75973943, -8.712878  ]), array([6.44903058, 2.04926128]), array([-6.3618003 , -9.42900682]), array([ -7.7757317 , -12.26561451]), array([ -4.2555452 , -16.09036116]), array([-12.85403911, -21.59889243]), array([6.0995355 , 1.99557541]), array([-1.56423638, -4.00315164]), array([20.02604563, -0.83061025]), array([2.74125725, 2.36119531]), array([1.50946989, 1.2529345 ]), array([22.1898348 , -2.11640857]), array([ -7.6349119 , -11.92866604]), array([ -0.10440856, -12.95005845]), array([-1.18829462, -4.1840536 ]), array([ -3.20402808, -14.81585674]), array([-2.33577459, -7.43864179]), array([7.69122763, 0.92932634]), array([ 3.26862277, -0.84086618]), array([10.00637748, -4.59273226]), array([-5.15767722, -5.21414038]), array([ 8.84744299, -7.28610051]), array([  0.84248733, -12.45247915]), array([11.14241878,  9.86299913]), array([10.26553789,  2.1838561 ]), array([3.12563939, 2.22541542]), array([ 5.84216373, -6.13639936]), array([4.56475838, 0.0601019 ]), array([12.91503773,  0.24558353]), array([5.92056755, 3.10568516]), array([ 3.17376532, -0.96413666]), array([2.5539016 , 1.08828547]), array([ -4.3771485 , -15.08839018]), array([6.54850772, 6.07703063]), array([ -5.10100466, -11.10030873]), array([ 5.71640109, -1.17472825]), array([-0.51389394, -8.69517472]), array([ 3.12806347, -3.4421917 ]), array([ -8.93335649, -12.38908493]), array([ 4.75391268, -7.50237922]), array([18.50937026,  9.7768733 ]), array([ 1.2476493 , -1.78271762]), array([10.89826067,  0.26779038]), array([8.39080643, 7.92387642]), array([20.47645803, 13.44965954]), array([20.9541463 , 16.35441895]), array([-0.2430285, -5.2863805]), array([  9.5027064 , -19.61348325]), array([14.62381705,  3.53909611]), array([7.03758475, 2.01054301]), array([ 0.36499249, -4.27432426]), array([-0.59274775, -1.65207707]), array([11.30647183,  3.1219447 ]), array([-0.10886508, -4.03756528]), array([ 9.38684271, -3.40653353]), array([5.85613693, 2.30599544]), array([  2.94020959, -18.23546065]), array([6.2087609 , 5.85114561]), array([11.91626018,  8.91494623]), array([25.7809409 ,  7.91134754]), array([8.64383207, 4.62236995]), array([3.78275057, 0.86031375]), array([12.37478385,  5.3419125 ]), array([ 1.6850143 , -4.26471068]), array([ 7.56902652, -9.58442671]), array([2.75511781, 0.32891012]), array([11.22142768,  3.86505547]), array([0.88020632, 0.04498322]), array([-16.44765364, -19.97878131]), array([11.37859037, -1.99330293]), array([11.76134188, -4.13955778]), array([2.81134384, 2.79085023]), array([ 3.82298273, -2.12324388]), array([ 4.88323812, -2.36141911]), array([8.06443052, 5.69002012]), array([ -6.69028994, -10.73502608]), array([ 7.19573042, -2.25223687]), array([  0.08329797, -21.30562906]), array([-1.13723863, -2.23382796]), array([8.26143595, 5.58465493]), array([19.52785383,  1.03520232]), array([14.3825268 ,  0.94488407]), array([-1.42446174, -4.80179164]), array([-1.45336657, -2.53207544]), array([ -2.32027489, -10.52123245]), array([-0.64700374, -9.97525042]), array([ 2.4536648 , -7.70526192]), array([24.54481248, 16.2535014 ]), array([ 0.58130002, -1.09663176]), array([-0.69334245, -5.49573226]), array([ 5.12289333, -5.57886678]), array([-3.03468305, -7.93516246]), array([-1.36920581, -1.73146101]), array([2.27915981, 0.09304872]), array([-3.773305  , -5.93702722]), array([12.16738591,  7.48800093]), array([1.48222521, 0.39213916]), array([-1.16410893, -8.46134159]), array([16.7042434,  7.3809938]), array([ -9.91253878, -11.10891917]), array([6.43227093, 4.32574471]), array([-5.34038227, -6.06969965]), array([ 0.43741394, -0.18638274]), array([-1.51893554, -2.73874845]), array([20.15156819, 20.1232773 ]), array([ 1.44583979, -9.19485408]), array([4.27032705, 4.12097849]), array([ 2.18545792, -2.8698148 ]), array([2.09134235, 1.99199661]), array([ 8.14930217, -2.47543493]), array([ 2.54678073, -1.67282616]), array([ 6.10757258, -3.85460646]), array([  1.66318171, -12.10136504]), array([ 5.22705756, -0.33236569]), array([-0.20891613, -3.41303677]), array([ 1.94217409, -5.33777871]), array([12.40974959,  3.01496719]), array([ 0.8997932 , -0.43682082]), array([ 2.35010339, -4.0746431 ]), array([8.92033498, 3.83264084]), array([ 0.88068479, -5.0954453 ]), array([ 5.22850494, -1.59949181]), array([-2.59800227, -9.15977147]), array([ 1.17590623, -7.56627564]), array([ 4.7634316 , -7.64644527]), array([ 7.27658018, -9.2641608 ]), array([ 7.2482085 , -7.73086688]), array([-6.60693056, -9.54438234]), array([ 1.00671383, -1.99126091]), array([6.13378379, 0.80778243]), array([ 5.83795547, -1.50642288]), array([ 0.56436327, -1.51064545]), array([5.18357174, 0.53233516]), array([ 4.71729994, -4.99707169]), array([ 2.24964961, -0.2110011 ]), array([8.78531981, 0.15469296]), array([7.59613262, 0.63721146]), array([-5.49961016, -8.79650857]), array([-6.30957357, -8.73953784]), array([ 2.53731244, -1.64708102]), array([8.79868934, 6.24441898]), array([10.5814019 ,  7.43885399]), array([ 2.47586853, -7.52248917]), array([9.46041059, 3.60245827]), array([-10.50775861, -12.03330027]), array([9.00026712, 4.53279271]), array([20.78501081,  0.24131574]), array([ -9.10726571, -14.13678747]), array([4.92243291, 3.41171731]), array([-1.95413903, -3.95702787]), array([ 2.33982551, -2.23169217]), array([ 5.22506296, -4.0371076 ]), array([-12.33571849, -14.5923157 ]), array([  1.94413549, -15.38255165]), array([5.10115581, 2.61963221]), array([ -7.43884013, -13.02480429]), array([-10.91147371, -11.05321556]), array([4.54417402, 1.0226207 ]), array([ 4.82550383, -4.8890624 ]), array([-10.81653314, -11.39194127]), array([-16.96735633, -22.11239232]), array([ 0.2188257 , -7.02637504]), array([5.78529818, 2.98731336]), array([14.11957589,  8.49946624]), array([10.50390906, -1.79520242]), array([-3.68965071, -5.02547963]), array([-13.17324483, -14.28873664]), array([22.2064    ,  2.46465764]), array([11.48168338,  7.86054808]), array([5.04792847, 2.92303835]), array([ 5.85694958, -1.02652438]), array([-3.28313715, -4.26034714]), array([ 3.60520474, -7.59167287]), array([ 1.80142049, -4.29445385]), array([ 1.00233519, -7.26904002]), array([ 11.84749751, -12.41014554]), array([12.83691475, -9.99354248]), array([-1.15301687, -7.34882974]), array([ 1.73312334, -4.46752414]), array([-6.43424839, -8.49059329]), array([-10.92813979, -11.04896257]), array([ 2.2578069 , -2.60643407]), array([ 0.8635761 , -0.14276661]), array([-1.58351558, -4.5194846 ]), array([9.33136406, 7.141484  ]), array([ 4.26923462, -5.69643972]), array([-3.80009991, -4.21729844]), array([ 5.13803201, -4.1482538 ]), array([ 8.24874404, -2.83958498]), array([ 9.1993428 , -7.33996568]), array([-1.36462271, -3.86254972]), array([ 1.42897023, -8.39911232]), array([5.12158544, 2.30680291]), array([ 0.09947225, -3.13464767]), array([10.50563885,  3.00603655]), array([-3.40630386, -4.24123386]), array([-3.15842736, -5.19158348]), array([4.20134288, 0.41930825]), array([10.34368903, -2.45781752]), array([11.19219628,  3.62549015]), array([-11.06499497, -11.57973506]), array([7.87093329, 0.16657847]), array([10.20644064,  8.10672139]), array([ 1.51046207, -5.84459888]), array([0.9207691 , 0.81904259]), array([ -2.57148019, -11.25066113]), array([  7.45763991, -10.82619755]), array([-3.74446224, -7.00647103]), array([19.17175433, 12.78539589]), array([3.22347085, 1.37102569]), array([3.79428615, 1.10219372]), array([-4.52606155, -5.43593302]), array([ 0.45769688, -0.68742077]), array([4.76263944, 4.55616635]), array([ 3.84346524, -5.44781503]), array([5.47450375, 1.02931986]), array([8.26243786, 4.90671326]), array([-2.23475168, -6.53664706]), array([ 0.49093869, -1.67513691]), array([ 1.85952102, -8.60135495]), array([ 9.57462245, -9.11214451]), array([-8.27698348, -8.46768402]), array([12.89367793, -3.75260467]), array([ 4.06608931, -8.06092755]), array([ 0.2421062 , -1.40473274]), array([ 5.22145197, -0.79579121]), array([-1.28824005, -3.75547788]), array([ 6.06931716, -6.86384119]), array([ 1.51527854, -4.89383128]), array([3.14707103, 2.35150606]), array([-2.09496687, -6.59119451]), array([ 3.1943206 , -6.86178607]), array([5.12645856, 4.08220407]), array([-1.7017014 , -2.80959994]), array([-5.74715955, -7.98989547]), array([-5.08576588, -9.36189891]), array([-1.71978906, -3.46118478]), array([ 3.76646226, -0.90638095]), array([ -2.99004987, -13.30313983]), array([-4.9815446 , -8.59848135]), array([ 1.03727076, -6.45826469]), array([-10.37364552, -11.43667702]), array([ -1.90277958, -11.8081796 ]), array([ -6.39975024, -10.32127493]), array([12.60526681,  5.04730283]), array([-8.08402782, -8.76077012]), array([13.30388626,  1.32987955]), array([ -9.48585476, -14.31453156]), array([-14.52068027, -17.45836529]), array([11.56747329,  6.63496739]), array([12.77091955,  7.03314403]), array([-5.75857493, -6.2128452 ]), array([-4.97933193, -6.47934058]), array([-2.97433761, -3.98417116]), array([7.10469394, 5.9396873 ]), array([-4.61386855, -7.54027773]), array([17.00422338, -7.49302493]), array([5.93031152, 1.24185552]), array([ -7.09695752, -14.37383937]), array([-0.7539265 , -3.84458511]), array([ 2.47840228, -1.21159795]), array([-2.1624717 , -3.50038985]), array([-6.28862055, -6.74268823]), array([-2.95506498, -6.94628407]), array([ 8.49824653, -5.72712322]), array([ -5.84341249, -14.85238527]), array([11.49762796, 10.33905293]), array([ -5.19101816, -13.59777657]), array([ 1.15675116, -0.298315  ]), array([-1.63240279, -8.47846789]), array([2.7463721 , 2.47911176]), array([ -5.07862289, -18.53130278]), array([ 3.63296472, -0.43246722]), array([ 7.46297008, -2.92993367]), array([-10.23506243, -19.10319747]), array([-3.97418861, -4.75644819]), array([-2.20838593, -4.47866806]), array([ 6.27015039, -1.21298823]), array([ 4.87768153, -3.95506063]), array([-0.96352949, -6.4783363 ]), array([9.74055344, 6.12356732]), array([-19.19771274, -21.05716603]), array([ 1.7896983, -7.8610404]), array([ 0.33730221, -8.12056089]), array([-2.61520639, -5.98935006]), array([-3.70176317, -5.44526296]), array([ -3.99954469, -11.05166188]), array([5.69124279, 1.98623455]), array([ 2.43239054, -3.52065441]), array([9.57937248, 6.85094192]), array([13.60719163,  8.52298592]), array([ 1.36682911, -9.88043791]), array([15.99799368,  8.34250306]), array([12.15549434, 11.86264761]), array([-0.66112189, -4.81895354]), array([-14.10837319, -15.8444113 ]), array([ -2.52804139, -10.77636597]), array([2.07891918, 0.19158952]), array([-6.14276572, -6.42622546]), array([4.45280832, 2.5043359 ]), array([-4.925024  , -9.07349511]), array([ -0.81630321, -13.80432512]), array([-5.51875663, -6.07477063]), array([ 4.52414901, -3.31804225]), array([7.3814818 , 5.05992738]), array([-4.75313874, -6.15087956]), array([20.9023743 , 12.38701251]), array([2.29076633, 0.31599135]), array([ 1.60564867, -0.29336643]), array([10.86748815,  2.59857555]), array([-15.77019833, -15.83249136]), array([-6.39807203, -8.8995055 ]), array([18.43599988,  3.35128024]), array([6.97565362, 0.28651993])]\n",
            "green error point: [array([-6.69179093, -5.60522006]), array([-12.67912807,  -5.24700889]), array([-2.78948388,  8.48729115]), array([-11.10718158,  -8.93150537]), array([-4.01551218,  6.77561037]), array([-6.94747386, -6.9285924 ]), array([2.44924397, 8.55634941]), array([-0.79161768,  7.95318372]), array([-3.64810257,  8.16181134]), array([-7.82201099, -6.4891414 ]), array([5.9710098 , 8.51426366]), array([10.06762879, 14.69872732]), array([-2.72274718, 16.62483367]), array([-12.10251061, -11.83896155]), array([-13.95084512,  -5.67567458]), array([-8.87272079,  4.6315534 ]), array([2.0203924 , 2.43873136]), array([-2.89883364,  2.14789245]), array([-8.25438166, -0.36750797]), array([7.03256935, 7.72500815]), array([-9.49484413, -3.41328689]), array([-3.93205368, -0.08471758]), array([-7.96545082,  2.73805296]), array([-14.7768343,  -3.5133529]), array([-7.54534704, 10.27977179]), array([4.22623172, 6.95656419]), array([0.36613608, 2.66829868]), array([-2.02391201, 13.50719474]), array([ 8.5558305 , 16.82101424]), array([-6.75234852, -5.48725584]), array([12.41591421, 14.18702684]), array([-11.91221247,  -9.35627803]), array([10.32740746, 10.88034116]), array([-8.94773133,  3.89306446]), array([-0.37305293, 10.59990672]), array([-3.25127269, -0.86535943]), array([-4.39595552,  4.54779603]), array([-1.33171217,  9.20972476]), array([20.92872116, 24.76379463]), array([ 5.57613167, 13.1788281 ]), array([-14.01541794,  -8.43926659]), array([3.75391657, 5.76494017]), array([ 6.22428089, 15.54665194]), array([-10.35503094,   8.70536312]), array([2.19681961, 2.3217401 ]), array([5.84409   , 5.96047075]), array([-14.63152866,   7.96693068]), array([1.25906301e-02, 1.29182389e+01]), array([-12.47163991,   3.48819039]), array([1.95365151, 4.04777511]), array([-13.17152041,  -1.47794368]), array([8.81737555, 8.85530359]), array([ 5.72272448, 21.59943277]), array([-10.52517456,  -4.18106667]), array([4.33662921, 7.59385043]), array([-9.89497494, -0.46218532]), array([3.09142443, 3.37759361]), array([ 9.73616032, 14.67551085]), array([-11.14586607,  -3.35447296]), array([1.74145199, 7.1084841 ]), array([-18.37874117, -14.06858983]), array([-5.52903807, -0.7509338 ]), array([1.73936974, 5.29716117]), array([-7.67945044, 21.34800039]), array([ 8.09799032, 11.24381352]), array([-1.93039823,  0.45030025]), array([ 6.44293954, 14.64622299]), array([-2.15033287, -1.22541362]), array([-5.46093536, 10.49039881]), array([-5.2676291 ,  7.02590613]), array([-8.78871274, -6.20771711]), array([ 4.13621568, 11.64941398]), array([-2.25102699,  0.96736286]), array([-3.83328567,  9.59867772]), array([-4.28706573, -2.9828627 ]), array([-5.86490193, 11.8175854 ]), array([8.50458052, 8.59072973]), array([-7.96849861, -6.5139747 ]), array([2.45218413, 4.12340401]), array([1.610169  , 2.09584034]), array([-6.8088528 , -3.24289911]), array([-8.98416823,  1.00515346]), array([-17.71794558,  -3.87905806]), array([-3.28833213,  9.11087125]), array([-19.2610395 , -11.93435894]), array([ 9.85731516, 22.30357147]), array([-7.46953897, -1.61788609]), array([-2.44072856,  0.49297105]), array([2.5383824, 7.2594173]), array([ 2.96053224, 16.37845859]), array([-11.49433542,  -9.27305096]), array([-8.03543298, -0.60552356]), array([-5.50530057,  6.04789484]), array([6.20659081, 9.89153632]), array([-5.51188128, -3.13392511]), array([-1.93693468,  7.92785949]), array([-0.90792386,  2.51784559]), array([-2.88008184,  2.00901314]), array([-0.75849269,  6.33107435]), array([7.52261205, 9.87002001]), array([-2.86576982, -2.25982104]), array([-9.24679709,  0.32229734]), array([-2.20466225,  0.41136718]), array([-1.99822483,  3.42463757]), array([-4.14198224,  0.17905358]), array([-3.37374931,  0.54375941]), array([ 3.96908909, 11.5148772 ]), array([-8.81268553,  5.40170814]), array([-5.50993176, -1.16409648]), array([-34.71364437, -14.22405397]), array([7.4204912 , 7.70024695]), array([5.25797189, 7.23417794]), array([-12.80766072,  -7.01603104]), array([-1.95759245, 15.0786478 ]), array([-2.29183484,  0.66084653]), array([-4.91548795, -1.08543654]), array([-8.72951633, -6.55060183]), array([-12.32485031, -11.11121531]), array([-4.86364443, -0.13686062]), array([-12.23433409, -10.4658435 ]), array([-9.25317571, -8.251698  ]), array([-0.66164284,  0.03433372]), array([-2.65627889,  7.37082186]), array([-2.20739898, 13.63582494]), array([ 0.4136121 , 19.34921661]), array([-1.98688841, 10.28809702]), array([2.37424   , 8.15921754]), array([-4.43975891,  1.37924428]), array([-10.14491127,  -1.48170395]), array([-5.43373571, -4.7553595 ]), array([-6.3556002 ,  3.28518131]), array([-19.7479996 ,  -8.54486579]), array([-12.72199344,  -6.8407669 ]), array([-14.21999073, -14.07648816]), array([-0.29198654, 11.03521766]), array([-6.37009352, -0.48318043]), array([-5.17244628, -3.72635873]), array([-9.39157274,  6.06665044]), array([-6.51664747,  0.88517968]), array([8.05285295, 9.1345253 ]), array([-4.20004108, -2.18870458]), array([-14.683299  ,   2.10574876]), array([-3.66548095, -0.95205764]), array([2.17561777, 6.28532167]), array([-2.88288034,  0.18011426]), array([13.41285267, 17.4882856 ]), array([0.27384257, 1.62757285]), array([-3.12471813,  2.05778945]), array([-18.96552994,   0.87511009]), array([2.29680889, 5.16918594]), array([-1.45031077, 23.60304492]), array([-11.47115621,  -7.40043941]), array([0.58586097, 9.07133764]), array([-8.89836878, -7.54926293]), array([0.42163955, 2.80499431]), array([-0.02320691, 11.67539771]), array([-13.097266  ,  -5.31044532]), array([-6.489756  ,  1.55319206]), array([-3.50917691,  2.09331895]), array([-4.35626128,  7.13142164]), array([4.24927206, 9.65231648]), array([ 2.98765136, 10.35900891]), array([-0.01886634,  2.69757923]), array([0.1465204 , 0.26607102]), array([-1.86892324, -0.97329806]), array([-11.48830475,  -7.68331412]), array([-7.07308934,  0.36730565]), array([2.09638598, 5.91114184]), array([-3.08012041,  0.30815696]), array([-1.05929685,  4.07367229]), array([-3.08542922, -0.34585535]), array([16.26494716, 16.50970711]), array([-3.92962312,  3.10035989]), array([ 9.7270678 , 16.43585234]), array([5.9187688 , 7.85522102]), array([-1.66660514,  0.94258028]), array([-14.22913847,  -3.41679686]), array([-9.56717983, -1.92580878]), array([-15.98628376,   3.41509983]), array([-1.99824035, 12.22829196]), array([-5.08978351, -2.50022575]), array([1.02319565, 7.66224813]), array([6.75107552, 9.38797647]), array([ 3.85667698, 12.22517719]), array([5.06493073, 8.03749784]), array([-12.39879881,  15.41306124]), array([-9.72950903,  3.19874877]), array([0.1578074 , 7.45055766]), array([-5.21228236, -1.07455208]), array([-11.01167339,  -7.33778601]), array([-3.34766451,  7.78413695]), array([-0.56877456,  0.28937822]), array([-2.90990029,  4.79328253]), array([-6.56435746, -5.78076224]), array([2.48592557, 7.39833367]), array([-0.22304929,  2.61676665]), array([ 6.74623101, 14.00293044]), array([-5.04182222,  2.25948301]), array([-2.81179633,  3.40088607]), array([-0.05428531,  9.43250357]), array([-0.37745489,  9.41292749]), array([-6.75615417, -2.4801376 ]), array([-3.10910369,  3.02980517]), array([-3.91942699, -2.32318222]), array([-4.10739516, -2.85130888]), array([-3.34404954,  2.143573  ]), array([-9.03275459,  2.01535763]), array([-5.12182594,  3.02905032]), array([-1.67101249,  4.06097097]), array([-8.45444548, -7.53837513]), array([3.93595864, 8.26447489]), array([6.60583153, 8.537797  ]), array([0.08194472, 1.46442117]), array([ 9.14410357, 26.85583001]), array([-7.3959155 , -4.83397668]), array([-6.68300866, -3.02641335]), array([-2.72557434, -2.60311146]), array([-10.19423312,  -4.06779403]), array([-3.93560234,  0.2058603 ]), array([-3.46437602, 10.00120221]), array([-7.48454783, -5.77245683]), array([-6.07546136,  1.18142773]), array([4.01804378, 9.33097374]), array([-6.46550695, 17.56489511]), array([-6.96692555, -2.46007578]), array([ 9.57818533, 12.20941216]), array([-5.87787008,  5.17767107]), array([-3.10752385,  1.28883681]), array([15.05258839, 20.07718777]), array([1.11277143, 8.58637221]), array([-4.42598403, -1.3138502 ]), array([-20.69578723,  -0.15434345]), array([-0.93767483,  3.35110963]), array([-16.53475178,  -2.24101968]), array([-5.08160993, -4.06920975]), array([-12.50278006, -11.52736162]), array([-11.61288447,  -0.91557309]), array([-8.79160024, -0.11213581]), array([-11.14325479,  -6.60647735]), array([-16.68197006, -14.16272779]), array([2.06450859, 3.04628275]), array([-7.57220424,  4.61527736]), array([-3.17212181,  0.82350661]), array([-8.37949351, -2.75535955]), array([-5.30401712,  8.06509961]), array([-11.80106197,  15.81467369]), array([-16.0538937 ,  -8.74387514]), array([ 8.09358487, 11.59752861]), array([0.45785039, 7.22915297]), array([2.78999534, 3.60124008]), array([-3.15993044, -1.03887073]), array([2.40463319, 6.75944204]), array([ 4.48669822, 10.77886955]), array([-1.31989119,  1.98003878]), array([-8.6927961 , -7.75642315]), array([-2.81964459,  0.07993068]), array([-1.5630062 , -1.06020707]), array([0.93023211, 3.10381761]), array([-0.81205364, 23.75388787]), array([1.45878649, 4.56522416]), array([-3.13693744,  1.13628752]), array([-7.04265164,  0.99332109]), array([-9.86116735, -4.1666126 ]), array([-8.45484476, -3.66260949]), array([-0.1590752 ,  0.86563654]), array([-8.33522699, -5.19038512]), array([ 5.96962207, 14.86097637]), array([-4.48151956, -3.3923969 ]), array([-9.38121686, -8.7887224 ]), array([-10.09026447,   0.4670185 ]), array([-1.92002481,  4.51392608]), array([-6.76092362, -1.46209867]), array([-0.32208789,  1.46251976]), array([-7.50743528, -0.81562835]), array([-5.43941051, -3.49043384]), array([-9.16685719, -8.09187291]), array([0.06365719, 2.81014137]), array([ 0.7621102 , 12.89316916]), array([-21.31035464,  -4.48366066]), array([-3.52553064, -1.03158066]), array([ 4.68094089, 12.68823583]), array([-13.18533914,  -1.76145521]), array([-9.83299234, -1.60889481]), array([-6.2733011 , 10.00437469]), array([-11.26444401,  -7.34638181]), array([10.08611147, 10.75196895]), array([-11.01510909,  -4.12109934]), array([-14.74514007, -13.1744693 ]), array([-0.91906147, -0.08603917]), array([12.62784743, 18.45667625]), array([2.73321581, 3.95435703]), array([-4.86807971,  9.98705043]), array([-21.90502232,  12.67381159]), array([0.84075414, 9.77628517]), array([-13.50152089, -10.77470816]), array([4.61362841, 6.36130397]), array([3.93583012, 8.54098888]), array([-10.73438522,  -2.99339871]), array([4.50093971, 6.33764686]), array([-4.65503551,  5.47594654]), array([5.90412662, 7.1835441 ]), array([-6.12072078, -5.48052356]), array([ 8.64268267, 10.34468423]), array([0.47005566, 0.73096717]), array([-5.30579418, -3.25492366]), array([-8.46355643, -7.09519303]), array([-2.84075908,  2.19132262]), array([-1.64473774,  1.52217516]), array([-13.55804144,  -2.41693236]), array([-3.16519958,  3.00932326]), array([1.75507916, 3.62889454]), array([-4.15640064,  6.27057662]), array([ 5.54033332, 12.83882326]), array([-5.07824246,  8.76061898]), array([-7.78314178,  1.96178236]), array([-1.82578314, -1.37254579]), array([-8.46158863, -0.13468283]), array([0.11203217, 0.40016348]), array([-10.0820059 ,  -6.20491258]), array([-10.94371191,  -6.97352116]), array([-3.80612718, -2.55322885]), array([-2.07662734,  2.51313195]), array([ 5.64943376, 19.57347591]), array([-13.00151034, -10.87495406]), array([-8.98375313, -4.22364662]), array([-2.51032256,  4.48515988]), array([-9.24726712, -4.6561344 ]), array([0.81058504, 1.75501325]), array([-11.34345876,  -8.92347249]), array([ 5.82894151, 13.43645787]), array([-1.42997151, 12.77311431]), array([16.16590428, 19.75608029]), array([4.94843337, 8.53343514]), array([1.46072934, 1.50498985]), array([7.30460974, 8.87092108]), array([-1.48410788, -1.26004394]), array([1.2488153 , 2.13091652]), array([-10.79335954,  -6.7572976 ]), array([13.48198441, 18.29791873]), array([-26.72492977,   0.65366872]), array([-8.0823964 , -4.55094781]), array([2.68517832, 3.44223369]), array([-9.10871362,  0.44859644]), array([-4.43679746,  3.12489782]), array([-3.35231461,  0.95432566]), array([ 1.49321882, 16.82556188]), array([-4.79706675,  0.88578997]), array([-5.012597  , -1.80106905]), array([-12.29174535,  -2.71187485]), array([1.99872702, 7.22600381]), array([-7.77470207, -3.28569624]), array([6.75410879, 8.98098027]), array([ 6.91228691, 11.37454509]), array([-10.9481921 ,  -4.41827064]), array([-5.32633088, -3.218514  ]), array([-16.15911399, -12.43188241]), array([-3.67757643,  5.76941329]), array([-0.54827753,  0.25745628]), array([3.0325434 , 4.71896923]), array([3.84804674, 9.22993989]), array([-3.42180352,  1.7183785 ]), array([-6.01334401, -3.68134388]), array([-2.45406898,  2.22626819]), array([8.48135003, 8.50066466]), array([-4.31871688, -2.58555556]), array([-3.61617778, -2.09897204]), array([-19.48395308,   7.76412268]), array([-8.44895548, -3.07396238]), array([-1.67633679,  5.9785388 ]), array([2.93856926, 3.2065747 ]), array([1.17383196, 9.74696816]), array([-9.55152859, -5.1090452 ]), array([ 4.01861074, 13.9204036 ]), array([-4.73792729, -3.84870435]), array([-6.90285101, -5.21501496]), array([ 4.27856155, 19.7954587 ]), array([-2.62400725,  3.84249954]), array([-13.5445421,  -0.8293804]), array([-0.17926382,  0.46231097]), array([-12.19965517,  -4.34695255]), array([-10.76606656,  -1.9880561 ]), array([-12.01259961,  -5.61480639]), array([-2.07573423, 11.72565264]), array([2.8267722 , 5.14875997]), array([-16.35640294, -14.76770323]), array([0.78395183, 2.64523367]), array([-6.98919915, -1.8858834 ]), array([6.87774   , 8.24487655]), array([-6.87546023,  3.01969478]), array([-30.41810217,   7.82351208]), array([ 3.92130838, 11.77456955]), array([-5.56780458, -1.55654471]), array([15.98050486, 18.91487817]), array([-8.12788607,  3.4307216 ]), array([6.01064696, 6.75588068]), array([-7.34413162,  1.70738716]), array([3.37812007, 4.08783089]), array([-6.55717555,  0.13352004]), array([-19.70409322, -12.17496882]), array([10.71495979, 16.5656988 ]), array([3.3956001 , 5.93436243]), array([-9.46804652, -4.06645608]), array([-13.39714612,  -1.32958238]), array([-2.74932421,  0.85540358]), array([-4.51422057, -1.81531604]), array([-1.96586429,  5.7393905 ]), array([10.95298231, 14.84364971]), array([0.61828864, 1.866048  ]), array([ 7.51331672, 10.31784344]), array([-8.50382978, -1.66037697])]\n",
            "red error count: 373\n",
            "green error count: 410\n"
          ]
        }
      ]
    },
    {
      "cell_type": "code",
      "source": [
        "# Calculating P(error) = ∑p(error|Γ=i)P(Γ=i)\n",
        "prob_err_r = 0\n",
        "prob_err_g = 0\n",
        "# NOTE FOR MYSEFL:\n",
        "# incorrect assumption, the formula doesnt state overall summation of probabilistic errors but, sum of points in wrong region/ total points.\n",
        "# error points calculated correctly, but probability calculation take attention.\n",
        "# # For red region\n",
        "\n",
        "# for i in range(len(error_r)):\n",
        "#   prob_err_r += error_r[i] * prob[0] \n",
        "\n",
        "# # For green region\n",
        "\n",
        "# for i in range(len(error_g)):\n",
        "#   prob_err_g += error_g[i] * prob[1]\n",
        "\n",
        "# made a correction, the probability points were added incorrectly.\n",
        "print(\"RED region\",red_error/MM)\n",
        "print(\"GREEN region\",green_error/MM)\n",
        "# print(\"Probability error in RED region: \",abs(prob_err_r/MM))\n",
        "# print(\"Probability error in GREEN region: \",abs(prob_err_g/MM))\n",
        "print((red_error*prob[0] + green_error*prob[1])/MM)"
      ],
      "metadata": {
        "colab": {
          "base_uri": "https://localhost:8080/"
        },
        "id": "eLSchIkSxEeh",
        "outputId": "1de7de42-4e4f-48de-e7bf-6d17047675e7"
      },
      "execution_count": null,
      "outputs": [
        {
          "output_type": "stream",
          "name": "stdout",
          "text": [
            "RED region 0.0746\n",
            "GREEN region 0.082\n",
            "0.0783\n"
          ]
        }
      ]
    },
    {
      "cell_type": "markdown",
      "source": [
        "# Problem 2 (9 points)\n",
        "\n",
        "Calculate the probability of error for the following cases\n",
        "\n",
        "*   (3 points) Change the mean $ {\\mu_X}_1 = \n",
        "  \\begin{bmatrix} -20 \\\\0 \n",
        "  \\end{bmatrix}\n",
        "$  and $ {\\mu_X}_2 = \n",
        "  \\begin{bmatrix} 20 \\\\0 \n",
        "  \\end{bmatrix}\n",
        "$ \n",
        "*   (3 points) Change the $\\Sigma_i$ to variance to $$ \n",
        "\\Sigma_1 =  \\begin{bmatrix}\n",
        "    6^2 & 0  \\\\ \n",
        "    0 & 6^2 \n",
        " \\end{bmatrix}\n",
        "$$\n",
        "and\n",
        "\n",
        "$$\n",
        " \\Sigma_2 =  \\begin{bmatrix}\n",
        "    6.8^2 & 0  \\\\ \n",
        "    0 & 6.8^2 \n",
        " \\end{bmatrix}\n",
        "$$\n",
        "\n",
        "\n",
        "*   (3 points) Change $P(\\Gamma = 1) = 0.999$ and $P(\\Gamma = 2) = 0.001$.\n",
        "\n",
        "\n"
      ],
      "metadata": {
        "id": "zbyRj-Womk8i"
      }
    },
    {
      "cell_type": "code",
      "source": [
        "'''\n",
        "  # PROBLEM 2\n",
        "    Part - 1\n",
        "\n",
        "    Ux1 = [-20, 0] Ux2 = [20, 0]\n",
        "    sigma = [6^2  0]\n",
        "            [0  6^2]\n",
        "    P(Γ = 1) = 0.999 and P(Γ = 2) = 0.001\n",
        "\n",
        "'''"
      ],
      "metadata": {
        "id": "mn-Svxl41-bH"
      },
      "execution_count": null,
      "outputs": []
    },
    {
      "cell_type": "code",
      "source": [
        "# SOLUTION - 2\n",
        "\n",
        "import numpy as np\n",
        "import matplotlib.pyplot as plt\n",
        "\n",
        "N = 2 # number of individual 2D Gaussian Distribution\n",
        "\n",
        "dist_with_similar_variance = 0 # if euqal to 1 all distributon have varinace 1\n",
        "                               # otherwise the varinace is chosen randomly\n",
        "dist_with_random_mean = 0\n",
        "\n",
        "# SET AS ZERP SO THAT THE PROB VALUES ARE([0.999, 0.001])\n",
        "equi_probable = 0\n",
        "\n",
        "if equi_probable:\n",
        "  prob = np.ones(N) *1/N\n",
        "else:\n",
        "  prob = np.array([0.999, 0.001])\n",
        "\n",
        "\n",
        "if dist_with_random_mean:\n",
        "  mu_X_boundary = 20.                # +/- defines the area for the x/y component of \n",
        "  mu_Y_boundary = 20.                # mean of the distribution\n",
        "  Mu_x = np.random.uniform(-mu_X_boundary, mu_X_boundary, N)\n",
        "  Mu_y = np.random.uniform(-mu_Y_boundary , mu_Y_boundary, N)\n",
        "  #Mu= np.vstack((Mu_x, Mu_y))\n",
        "else:\n",
        "  Mu_x = np.array([-20, 0])\n",
        "  Mu_y = np.array([ 20, 0])\n",
        "\n",
        "# First we use the covariance matrix will be diagonal\n",
        "# diagonal elements (this make the two Rnadom varianble\n",
        "# in 2D vector independent)\n",
        "\n",
        "if dist_with_similar_variance:\n",
        "  sigma = 10\n",
        "  Sigma = np.ones(N)*sigma\n",
        "else:\n",
        "  Sigma = np.array([6,6])  # SET VARIANCE AS [(6,6)]\n",
        "\n",
        "#define the area with number of grid points\n",
        "\n",
        "N_grid = 1000\n",
        "\n",
        "X_boundary = 50.\n",
        "Y_boundary = 50.\n",
        "\n",
        "resolution = .1\n",
        "x_min, x_max = -X_boundary, X_boundary\n",
        "y_min, y_max = -Y_boundary, Y_boundary\n",
        "xx, yy = np.meshgrid(np.arange(x_min, x_max, resolution),\n",
        "                         np.arange(y_min, y_max, resolution))\n",
        "h = 0*xx\n",
        "max = np.ones(xx.shape)* (-1e20)\n",
        "\n",
        "# for defining the regions.\n",
        "for n in np.arange(N):\n",
        "      metric = np.log(prob[n]) -  np.log(2*np.pi) -1/2*np.log(np.square(np.square(Sigma[n]))) - 1/np.square(Sigma[n]) \\\n",
        "      *(np.square(xx - Mu_x[n]) + np.square(yy-Mu_y[n]))/2\n",
        "      h  = h* ((metric<max) *1.) + ((metric >= max) *1.) *(n+1)  \n",
        "      max = max * ((metric<max)*1.) + ((metric >= max)*1.) *metric\n",
        "plt.contourf(xx[0,:],yy[:,0],h)\n",
        "\n",
        "# code for plotting the points\n",
        "\n",
        "color = 'r' + 'g' \n",
        "\n",
        "li_green1 = []\n",
        "li_red1 = []\n",
        "\n",
        "# This is for plotting the points\n",
        "for n in np.arange(N):\n",
        "  # here we are going to cheat and deterministcally generate proportional \n",
        "  # number of random variables.\n",
        "  # this is proportional to the probability of each category\n",
        "  MM = int(np.round(prob[n]*10000))\n",
        "  x = np.random.normal(np.array([Mu_x[n],Mu_y[n]]), Sigma[n], (MM,2))\n",
        "  if n:\n",
        "    li_green1 = x\n",
        "  else:\n",
        "    li_red1 = x\n",
        "  plt.scatter(\n",
        "    x[:, 0],\n",
        "    x[:, 1],\n",
        "    s=20,\n",
        "    linewidth=1,\n",
        "    facecolors=color[n],\n",
        "    edgecolors=\"none\",\n",
        "    ) \n"
      ],
      "metadata": {
        "colab": {
          "base_uri": "https://localhost:8080/",
          "height": 265
        },
        "id": "ppCSXks00IGy",
        "outputId": "7148f01b-e6e5-4e40-9e95-b8996d1698ba"
      },
      "execution_count": null,
      "outputs": [
        {
          "output_type": "display_data",
          "data": {
            "text/plain": [
              "<Figure size 432x288 with 1 Axes>"
            ],
            "image/png": "[encoded data removed]"
          },
          "metadata": {
            "needs_background": "light"
          }
        }
      ]
    },
    {
      "cell_type": "code",
      "source": [
        "# SOLUTION -- code starts here --\n",
        "prob_r1 =  np.log(prob[0]) -1/2* np.log(2*np.pi*np.square(np.square(Sigma[0]))) - 1/np.square(Sigma[0]) *(np.square(li_red1[:,0] - Mu_x[0]) + np.square(li_red1[:,1] - Mu_y[0]))/2\n",
        "\n",
        "prob_rg1 = np.log(prob[1])  -1/2* np.log(2*np.pi*np.square(np.square(Sigma[1]))) - 1/np.square(Sigma[1]) *(np.square(li_red1[:,0] - Mu_x[1]) + np.square(li_red1[:,1] - Mu_y[1]))/2\n",
        "\n",
        "prob_g1 = np.log(prob[0])  -1/2* np.log(2*np.pi*np.square(np.square(Sigma[0]))) - 1/np.square(Sigma[0]) *(np.square(li_green1[:,0] - Mu_x[0]) + np.square(li_green1[:,1] - Mu_y[0]))/2\n",
        "\n",
        "prob_gr1 = np.log(prob[1])  -1/2* np.log(2*np.pi*np.square(np.square(Sigma[1]))) - 1/np.square(Sigma[1]) *(np.square(li_green1[:,0] - Mu_x[1]) + np.square(li_green1[:,1] - Mu_y[1]))/2\n",
        "\n",
        "red_error = 0\n",
        "green_error = 0 \n",
        "p = []\n",
        "p1 = []\n",
        "error_r = []\n",
        "error_g = []\n",
        "for i in range(len(prob_r1)):\n",
        "  if(prob_r1[i] < prob_rg1[i]):\n",
        "    p.append(li_red1[i])\n",
        "    red_error +=1\n",
        "    error_r.append(prob_rg1[i])\n",
        "\n",
        "for i in range(len(prob_g1)):\n",
        "  if(prob_g1[i] > prob_gr1[i]):\n",
        "    p1.append(li_green1[i])\n",
        "    green_error +=1\n",
        "    error_g.append(prob_gr1[i])\n",
        "\n",
        "print(\"red error points:\",p)\n",
        "print(\"green error point:\",p1)\n",
        "print(\"red error count:\",red_error)\n",
        "print(\"green error count:\",green_error)\n",
        "\n",
        "# Calculating P(error) = ∑p(error|Γ=i)P(Γ=i)\n",
        "\n",
        "# prob_err_r = 0\n",
        "# prob_err_g = 0\n",
        "\n",
        "# for i in range(len(error_r)):\n",
        "#   prob_err_r += error_r[i] * prob[0]\n",
        "\n",
        "# for i in range(len(error_g)):\n",
        "#   prob_err_g += error_g[i] * prob[1] \n",
        "\n",
        "\n",
        "# made a correction, the probability points were added incorrectly.\n",
        "print(\"RED region\",red_error/MM)\n",
        "print(\"GREEN region\",green_error/MM)\n",
        "# print(\"Probability error in RED region: \",abs(prob_err_r/MM))\n",
        "# print(\"Probability error in GREEN region: \",abs(prob_err_g/MM))\n",
        "print((red_error*prob[0] + green_error*prob[1])/MM)"
      ],
      "metadata": {
        "colab": {
          "base_uri": "https://localhost:8080/"
        },
        "id": "mYqlAmrj4Xsj",
        "outputId": "147a3895-afcb-487b-8c7b-3679d9043e62"
      },
      "execution_count": null,
      "outputs": [
        {
          "output_type": "stream",
          "name": "stdout",
          "text": [
            "red error points: []\n",
            "green error point: [array([-10.87942768,   6.37623091]), array([-12.2521437 ,   0.16534549]), array([-6.42839143, 10.32611383])]\n",
            "red error count: 0\n",
            "green error count: 3\n",
            "RED region 0.0\n",
            "GREEN region 0.3\n",
            "0.00030000000000000003\n"
          ]
        }
      ]
    },
    {
      "cell_type": "code",
      "source": [
        "'''\n",
        "  # PROBLEM 2\n",
        "    Part - 2\n",
        "\n",
        "    Ux1 = [-20, 0] Ux2 = [20, 0]\n",
        "    sigma = [6.8^2  0]\n",
        "            [0  6.8^2]\n",
        "    P(Γ = 1) = 0.999 and P(Γ = 2) = 0.001\n",
        "\n",
        "'''"
      ],
      "metadata": {
        "id": "hCWDtbuU77-f"
      },
      "execution_count": null,
      "outputs": []
    },
    {
      "cell_type": "code",
      "source": [
        "import numpy as np\n",
        "import matplotlib.pyplot as plt\n",
        "\n",
        "N = 2 # number of individual 2D Gaussian Distribution\n",
        "\n",
        "dist_with_similar_variance = 0 # if euqal to 1 all distributon have varinace 1\n",
        "                               # otherwise the varinace is chosen randomly\n",
        "dist_with_random_mean = 0\n",
        "\n",
        "# SET AS ZERP SO THAT THE PROB VALUES ARE([0.999, 0.001])\n",
        "equi_probable = 0\n",
        "\n",
        "if equi_probable:\n",
        "  prob = np.ones(N) *1/N\n",
        "else:\n",
        "  prob = np.array([0.999, 0.001])\n",
        "\n",
        "\n",
        "if dist_with_random_mean:\n",
        "  mu_X_boundary = 20.                # +/- defines the area for the x/y component of \n",
        "  mu_Y_boundary = 20.                # mean of the distribution\n",
        "  Mu_x = np.random.uniform(-mu_X_boundary, mu_X_boundary, N)\n",
        "  Mu_y = np.random.uniform(-mu_Y_boundary , mu_Y_boundary, N)\n",
        "  #Mu= np.vstack((Mu_x, Mu_y))\n",
        "else:\n",
        "  Mu_x = np.array([-20, 0])\n",
        "  Mu_y = np.array([ 20, 0])\n",
        "\n",
        "# First we use the covariance matrix will be diagonal\n",
        "# diagonal elements (this make the two Rnadom varianble\n",
        "# in 2D vector independent)\n",
        "\n",
        "if dist_with_similar_variance:\n",
        "  sigma = 10\n",
        "  Sigma = np.ones(N)*sigma\n",
        "else:\n",
        "  Sigma = np.array([6.8,6.8])  # SET VARIANCE AS [(6.8,6.8)]\n",
        "\n",
        "#define the area with number of grid points\n",
        "\n",
        "N_grid = 1000\n",
        "\n",
        "X_boundary = 50.\n",
        "Y_boundary = 50.\n",
        "\n",
        "resolution = .1\n",
        "x_min, x_max = -X_boundary, X_boundary\n",
        "y_min, y_max = -Y_boundary, Y_boundary\n",
        "xx, yy = np.meshgrid(np.arange(x_min, x_max, resolution),\n",
        "                         np.arange(y_min, y_max, resolution))\n",
        "h = 0*xx\n",
        "max = np.ones(xx.shape)* (-1e20)\n",
        "\n",
        "# for defining the regions.\n",
        "for n in np.arange(N):\n",
        "      metric = np.log(prob[n]) -  np.log(2*np.pi) -1/2*np.log(np.square(np.square(Sigma[n]))) - 1/np.square(Sigma[n]) \\\n",
        "      *(np.square(xx - Mu_x[n]) + np.square(yy-Mu_y[n]))/2\n",
        "      h  = h* ((metric<max) *1.) + ((metric >= max) *1.) *(n+1)  \n",
        "      max = max * ((metric<max)*1.) + ((metric >= max)*1.) *metric\n",
        "plt.contourf(xx[0,:],yy[:,0],h)\n",
        "\n",
        "# code for plotting the points\n",
        "\n",
        "color = 'r' + 'g' \n",
        "\n",
        "li_green1 = []\n",
        "li_red1 = []\n",
        "\n",
        "# This is for plotting the points\n",
        "for n in np.arange(N):\n",
        "  # here we are going to cheat and deterministcally generate proportional \n",
        "  # number of random variables.\n",
        "  # this is proportional to the probability of each category\n",
        "  MM = int(np.round(prob[n]*10000))\n",
        "  x = np.random.normal(np.array([Mu_x[n],Mu_y[n]]), Sigma[n], (MM,2))\n",
        "  if n:\n",
        "    li_green1 = x\n",
        "  else:\n",
        "    li_red1 = x\n",
        "  plt.scatter(\n",
        "    x[:, 0],\n",
        "    x[:, 1],\n",
        "    s=20,\n",
        "    linewidth=1,\n",
        "    facecolors=color[n],\n",
        "    edgecolors=\"none\",\n",
        "    ) "
      ],
      "metadata": {
        "colab": {
          "base_uri": "https://localhost:8080/",
          "height": 265
        },
        "id": "xSLC5WOGC-p9",
        "outputId": "a7342964-85ba-4767-ea62-3437841ad8f8"
      },
      "execution_count": null,
      "outputs": [
        {
          "output_type": "display_data",
          "data": {
            "text/plain": [
              "<Figure size 432x288 with 1 Axes>"
            ],
            "image/png": "[encoded data removed]"
          },
          "metadata": {
            "needs_background": "light"
          }
        }
      ]
    },
    {
      "cell_type": "code",
      "source": [
        "# SOLUTION -- code starts here --\n",
        "prob_r1 = np.log(prob[0])  -1/2* np.log(2*np.pi*np.square(np.square(Sigma[0]))) - 1/np.square(Sigma[0]) \\\n",
        "        *(np.square(li_red1[:,0] - Mu_x[0]) + np.square(li_red1[:,1] - Mu_y[0]))/2\n",
        "\n",
        "prob_rg1 = np.log(prob[1])  -1/2* np.log(2*np.pi*np.square(np.square(Sigma[1]))) - 1/np.square(Sigma[1]) \\\n",
        "        *(np.square(li_red1[:,0] - Mu_x[1]) + np.square(li_red1[:,1] - Mu_y[1]))/2\n",
        "\n",
        "prob_g1 = np.log(prob[0])  -1/2* np.log(2*np.pi*np.square(np.square(Sigma[0]))) - 1/np.square(Sigma[0]) \\\n",
        "        *(np.square(li_green1[:,0] - Mu_x[0]) + np.square(li_green1[:,1] - Mu_y[0]))/2\n",
        "\n",
        "prob_gr1 = np.log(prob[1])  -1/2* np.log(2*np.pi*np.square(np.square(Sigma[1]))) - 1/np.square(Sigma[1]) \\\n",
        "        *(np.square(li_green1[:,0] - Mu_x[1]) + np.square(li_green1[:,1] - Mu_y[1]))/2\n",
        "\n",
        "red_error1 = 0\n",
        "green_error1 = 0 \n",
        "p_1 = []\n",
        "p1_1 = []\n",
        "error_r = []\n",
        "error_g = []\n",
        "for i in range(len(prob_r1)):\n",
        "  if(prob_r1[i] < prob_rg1[i]):\n",
        "    p_1.append(li_red1[i])\n",
        "    red_error1 +=1\n",
        "    error_r.append(prob_rg1[i])\n",
        "\n",
        "for i in range(len(prob_g1)):\n",
        "  if(prob_g1[i] > prob_gr1[i]):\n",
        "    p1_1.append(li_green1[i])\n",
        "    green_error1 +=1\n",
        "    error_g.append(prob_gr1[i])\n",
        "\n",
        "print(\"red error points:\",p_1)\n",
        "print(\"green error point:\",p1_1)\n",
        "print(\"red error count:\",red_error1)\n",
        "print(\"green error count:\",green_error1)\n",
        "\n",
        "# Calculating P(error) = ∑p(error|Γ=i)P(Γ=i)\n",
        "\n",
        "prob_err_r = 0\n",
        "prob_err_g = 0\n",
        "\n",
        "# for i in range(len(error_r)):\n",
        "#   prob_err_r += error_r[i]*prob[0] \n",
        "# for i in range(len(error_g)):\n",
        "#   prob_err_g += error_g[i]*prob[1] \n",
        "\n",
        "# # made correction, the whole probability was not divided with total.\n",
        "# print(\"Probability error in RED region: \",abs(prob_err_r)/MM)\n",
        "# print(\"Probability error in GREEN region: \",abs(prob_err_g)/MM)\n",
        "\n",
        "# made a correction, the probability points were added incorrectly.\n",
        "print(\"RED region\",red_error1/MM)\n",
        "print(\"GREEN region\",green_error1/MM)\n",
        "# print(\"Probability error in RED region: \",abs(prob_err_r/MM))\n",
        "# print(\"Probability error in GREEN region: \",abs(prob_err_g/MM))\n",
        "print((red_error1*prob[0] + green_error1*prob[1])/MM)"
      ],
      "metadata": {
        "colab": {
          "base_uri": "https://localhost:8080/"
        },
        "id": "03XUJuX6DEGf",
        "outputId": "f5a69807-d59d-4cbf-f424-d841f79a93bc"
      },
      "execution_count": null,
      "outputs": [
        {
          "output_type": "stream",
          "name": "stdout",
          "text": [
            "red error points: [array([-2.50054739, -2.59763883])]\n",
            "green error point: [array([-10.05588643,   0.65796347]), array([ 4.14664793, 14.82871081]), array([-1.48714415,  3.02809366])]\n",
            "red error count: 1\n",
            "green error count: 3\n",
            "RED region 0.1\n",
            "GREEN region 0.3\n",
            "0.1002\n"
          ]
        }
      ]
    },
    {
      "cell_type": "code",
      "source": [],
      "metadata": {
        "id": "P8r6CLvzMhdq"
      },
      "execution_count": null,
      "outputs": []
    }
  ]
}